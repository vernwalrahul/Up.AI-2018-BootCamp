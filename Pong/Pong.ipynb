{
 "cells": [
  {
   "cell_type": "markdown",
   "metadata": {},
   "source": [
    "# Learning to play Pong"
   ]
  },
  {
   "cell_type": "code",
   "execution_count": 1,
   "metadata": {},
   "outputs": [
    {
     "name": "stdout",
     "output_type": "stream",
     "text": [
      "pygame 1.9.4\n",
      "Hello from the pygame community. https://www.pygame.org/contribute.html\n"
     ]
    },
    {
     "name": "stderr",
     "output_type": "stream",
     "text": [
      "/home/vernwalrahul/.local/lib/python3.5/site-packages/h5py/__init__.py:36: FutureWarning: Conversion of the second argument of issubdtype from `float` to `np.floating` is deprecated. In future, it will be treated as `np.float64 == np.dtype(float).type`.\n",
      "  from ._conv import register_converters as _register_converters\n",
      "Using TensorFlow backend.\n"
     ]
    }
   ],
   "source": [
    "import MyPong # My PyGame Pong Game \n",
    "import MyAgent # My DQN Based Agent\n",
    "import numpy as np \n",
    "import random \n",
    "import matplotlib.pyplot as plt\n",
    "import time\n",
    "\n",
    "#   DQN Algorith Paramaters \n",
    "ACTIONS = 3 # Number of Actions.  Acton istelf is a scalar:  0:stay, 1:Up, 2:Down\n",
    "STATECOUNT = 5 # Size of State [ PlayerYPos, BallXPos, BallYPos, BallXDirection, BallYDirection] \n",
    "TOTAL_GAMETIME = 15000"
   ]
  },
  {
   "cell_type": "code",
   "execution_count": 2,
   "metadata": {},
   "outputs": [],
   "source": [
    "# Normalise GameState\n",
    "def CaptureNormalisedState(PlayerYPos, BallXPos, BallYPos, BallXDirection, BallYDirection):\n",
    "    gstate = np.zeros([STATECOUNT])\n",
    "    gstate[0] = PlayerYPos/400.0\t# Normalised PlayerYPos\n",
    "    gstate[1] = BallXPos/400.0\t# Normalised BallXPos\n",
    "    gstate[2] = BallYPos/400.0\t# Normalised BallYPos\n",
    "    gstate[3] = BallXDirection/1.0\t# Normalised BallXDirection\n",
    "    gstate[4] = BallYDirection/1.0\t# Normalised BallYDirection\n",
    "\n",
    "    return gstate"
   ]
  },
  {
   "cell_type": "code",
   "execution_count": 4,
   "metadata": {},
   "outputs": [],
   "source": [
    "# Main Experiment Method \n",
    "def PlayExperiment():\n",
    "    GameTime = 0\n",
    "    GameHistory = []\n",
    "    TheGame = MyPong.PongGame()\n",
    "    \n",
    "    # Initialise Game\n",
    "    TheGame.InitialDisplay()\n",
    "    #\n",
    "    #  Create our Agent (including DQN based Brain)\n",
    "    TheAgent = MyAgent.Agent(STATECOUNT, ACTIONS)\n",
    "\n",
    "    # Initialise NextAction  Assume Action is scalar:  0:stay, 1:Up, 2:Down\n",
    "    BestAction = 0\n",
    "\n",
    "    # Initialise current Game State ~ Believe insigificant: (PlayerYPos, BallXPos, BallYPos, BallXDirection, BallYDirection)\n",
    "    GameState = CaptureNormalisedState(200.0, 200.0, 200.0, 1.0, 1.0)\n",
    "\n",
    "    #Main Experiment Loop \n",
    "    t1 = time.time()\n",
    "    for gtime in range(TOTAL_GAMETIME):    \n",
    "\n",
    "        # First just Update the Game Display\n",
    "        if GameTime % 100 == 0:\n",
    "            TheGame.UpdateGameDisplay(GameTime,TheAgent.epsilon)\n",
    "\n",
    "        # Determine Next Action From the Agent\n",
    "        BestAction = TheAgent.Act(GameState)\n",
    "\n",
    "        #  Now Apply the Recommended Action into the Game \t\n",
    "        [ReturnScore,PlayerYPos, BallXPos, BallYPos, BallXDirection, BallYDirection]= TheGame.PlayNextMove(BestAction)\n",
    "        NextState = CaptureNormalisedState(PlayerYPos, BallXPos, BallYPos, BallXDirection, BallYDirection)\n",
    "\n",
    "        # Capture the Sample [S, A, R, S\"] in Agent Experience Replay Memory \n",
    "        TheAgent.CaptureSample((GameState,BestAction,ReturnScore,NextState))\n",
    "\n",
    "        #  Now Request Agent to DQN Train process  Against Experience\n",
    "        TheAgent.Process()\n",
    "\n",
    "        # Move State On\n",
    "        GameState = NextState\n",
    "\n",
    "        # Move GameTime Click\n",
    "        GameTime = GameTime+1\n",
    "\n",
    "        #print our where wer are after saving where we are\n",
    "        if GameTime % 1000 == 0:\n",
    "            # Save the Keras Model\n",
    "            donothing =0\n",
    "\n",
    "        if GameTime % 200 == 0:\n",
    "            print(\"Game Time: \", GameTime,\"  Game Score: \", \"{0:.2f}\".format(TheGame.GScore), \"   EPSILON: \", \"{0:.4f}\".format(TheAgent.epsilon))\n",
    "            GameHistory.append((GameTime,TheGame.GScore,TheAgent.epsilon))\n",
    "        t2 = time.time()\n",
    "        # print(\"time = \",t2-t1)\n",
    "        t1 = t2\t\n",
    "\n",
    "    # ===============================================\n",
    "    # End of Game Loop  so Plot the Score vs Game Time profile\n",
    "    x_val = [x[0] for x in GameHistory]\n",
    "    y_val = [x[1] for x in GameHistory]\n",
    "\n",
    "    plt.plot(x_val,y_val)\n",
    "    plt.xlabel(\"Game Time\")\n",
    "    plt.ylabel(\"Score\")\n",
    "    plt.show()"
   ]
  },
  {
   "cell_type": "code",
   "execution_count": 5,
   "metadata": {},
   "outputs": [
    {
     "name": "stdout",
     "output_type": "stream",
     "text": [
      "Game Time:  200   Game Score:  -9.10    EPSILON:  1.0000\n",
      "Game Time:  400   Game Score:  -8.39    EPSILON:  1.0000\n",
      "Game Time:  600   Game Score:  -6.10    EPSILON:  1.0000\n",
      "Game Time:  800   Game Score:  -6.23    EPSILON:  0.9765\n",
      "Game Time:  1000   Game Score:  -7.23    EPSILON:  0.8884\n",
      "Game Time:  1200   Game Score:  -6.00    EPSILON:  0.8086\n",
      "Game Time:  1400   Game Score:  -5.20    EPSILON:  0.7364\n",
      "Game Time:  1600   Game Score:  -6.47    EPSILON:  0.6711\n",
      "Game Time:  1800   Game Score:  -6.46    EPSILON:  0.6120\n",
      "Game Time:  2000   Game Score:  -5.63    EPSILON:  0.5585\n",
      "Game Time:  2200   Game Score:  -6.79    EPSILON:  0.5101\n",
      "Game Time:  2400   Game Score:  -6.74    EPSILON:  0.4663\n",
      "Game Time:  2600   Game Score:  -5.93    EPSILON:  0.4267\n",
      "Game Time:  2800   Game Score:  -4.20    EPSILON:  0.3909\n",
      "Game Time:  3000   Game Score:  -3.93    EPSILON:  0.3584\n",
      "Game Time:  3200   Game Score:  -4.63    EPSILON:  0.3291\n",
      "Game Time:  3400   Game Score:  -4.47    EPSILON:  0.3025\n",
      "Game Time:  3600   Game Score:  -4.16    EPSILON:  0.2785\n",
      "Game Time:  3800   Game Score:  -3.85    EPSILON:  0.2567\n",
      "Game Time:  4000   Game Score:  -3.71    EPSILON:  0.2371\n",
      "Game Time:  4200   Game Score:  -3.43    EPSILON:  0.2193\n",
      "Game Time:  4400   Game Score:  -4.31    EPSILON:  0.2032\n",
      "Game Time:  4600   Game Score:  -3.19    EPSILON:  0.1886\n",
      "Game Time:  4800   Game Score:  -2.28    EPSILON:  0.1754\n",
      "Game Time:  5000   Game Score:  -1.79    EPSILON:  0.1635\n",
      "Game Time:  5200   Game Score:  -1.34    EPSILON:  0.1527\n",
      "Game Time:  5400   Game Score:  -0.96    EPSILON:  0.1429\n",
      "Game Time:  5600   Game Score:  -0.01    EPSILON:  0.1341\n",
      "Game Time:  5800   Game Score:  -0.12    EPSILON:  0.1261\n",
      "Game Time:  6000   Game Score:  -0.02    EPSILON:  0.1188\n",
      "Game Time:  6200   Game Score:  0.87    EPSILON:  0.1123\n",
      "Game Time:  6400   Game Score:  3.63    EPSILON:  0.1063\n",
      "Game Time:  6600   Game Score:  3.55    EPSILON:  0.1010\n",
      "Game Time:  6800   Game Score:  4.36    EPSILON:  0.0961\n",
      "Game Time:  7000   Game Score:  2.50    EPSILON:  0.0917\n",
      "Game Time:  7200   Game Score:  2.73    EPSILON:  0.0878\n",
      "Game Time:  7400   Game Score:  2.71    EPSILON:  0.0842\n",
      "Game Time:  7600   Game Score:  3.82    EPSILON:  0.0809\n",
      "Game Time:  7800   Game Score:  5.69    EPSILON:  0.0780\n",
      "Game Time:  8000   Game Score:  6.01    EPSILON:  0.0753\n",
      "Game Time:  8200   Game Score:  7.07    EPSILON:  0.0729\n",
      "Game Time:  8400   Game Score:  7.85    EPSILON:  0.0707\n",
      "Game Time:  8600   Game Score:  6.56    EPSILON:  0.0688\n",
      "Game Time:  8800   Game Score:  6.47    EPSILON:  0.0670\n",
      "Game Time:  9000   Game Score:  6.64    EPSILON:  0.0654\n",
      "Game Time:  9200   Game Score:  6.53    EPSILON:  0.0639\n",
      "Game Time:  9400   Game Score:  5.69    EPSILON:  0.0626\n",
      "Game Time:  9600   Game Score:  4.97    EPSILON:  0.0614\n",
      "Game Time:  9800   Game Score:  5.45    EPSILON:  0.0603\n",
      "Game Time:  10000   Game Score:  6.65    EPSILON:  0.0593\n",
      "Game Time:  10200   Game Score:  6.59    EPSILON:  0.0584\n",
      "Game Time:  10400   Game Score:  7.49    EPSILON:  0.0576\n",
      "Game Time:  10600   Game Score:  7.30    EPSILON:  0.0569\n",
      "Game Time:  10800   Game Score:  7.20    EPSILON:  0.0562\n",
      "Game Time:  11000   Game Score:  7.94    EPSILON:  0.0556\n",
      "Game Time:  11200   Game Score:  6.63    EPSILON:  0.0551\n",
      "Game Time:  11400   Game Score:  7.52    EPSILON:  0.0546\n",
      "Game Time:  11600   Game Score:  7.36    EPSILON:  0.0542\n",
      "Game Time:  11800   Game Score:  8.16    EPSILON:  0.0538\n",
      "Game Time:  12000   Game Score:  7.70    EPSILON:  0.0534\n",
      "Game Time:  12200   Game Score:  8.31    EPSILON:  0.0531\n",
      "Game Time:  12400   Game Score:  8.76    EPSILON:  0.0528\n",
      "Game Time:  12600   Game Score:  9.09    EPSILON:  0.0525\n",
      "Game Time:  12800   Game Score:  9.33    EPSILON:  0.0523\n",
      "Game Time:  13000   Game Score:  9.53    EPSILON:  0.0521\n",
      "Game Time:  13200   Game Score:  9.65    EPSILON:  0.0519\n",
      "Game Time:  13400   Game Score:  9.75    EPSILON:  0.0517\n",
      "Game Time:  13600   Game Score:  9.81    EPSILON:  0.0515\n",
      "Game Time:  13800   Game Score:  9.87    EPSILON:  0.0514\n",
      "Game Time:  14000   Game Score:  9.90    EPSILON:  0.0513\n",
      "Game Time:  14200   Game Score:  9.93    EPSILON:  0.0511\n",
      "Game Time:  14400   Game Score:  9.95    EPSILON:  0.0510\n",
      "Game Time:  14600   Game Score:  9.96    EPSILON:  0.0509\n",
      "Game Time:  14800   Game Score:  9.97    EPSILON:  0.0508\n",
      "Game Time:  15000   Game Score:  9.98    EPSILON:  0.0508\n"
     ]
    },
    {
     "data": {
      "image/png": "[encoded data removed]",
      "text/plain": [
       "<matplotlib.figure.Figure at 0x7f61ba548da0>"
      ]
     },
     "metadata": {},
     "output_type": "display_data"
    }
   ],
   "source": [
    "PlayExperiment()"
   ]
  }
 ],
 "metadata": {
  "kernelspec": {
   "display_name": "Python 3",
   "language": "python",
   "name": "python3"
  },
  "language_info": {
   "codemirror_mode": {
    "name": "ipython",
    "version": 3
   },
   "file_extension": ".py",
   "mimetype": "text/x-python",
   "name": "python",
   "nbconvert_exporter": "python",
   "pygments_lexer": "ipython3",
   "version": "3.5.2"
  }
 },
 "nbformat": 4,
 "nbformat_minor": 2
}
