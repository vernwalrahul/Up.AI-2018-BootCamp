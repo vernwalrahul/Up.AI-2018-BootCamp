{
 "cells": [
  {
   "cell_type": "code",
   "execution_count": null,
   "metadata": {},
   "outputs": [],
   "source": [
    "import MyPong # My PyGame Pong Game \n",
    "from keras.models import Sequential\n",
    "from keras.layers import Dense, Activation, Flatten\n",
    "from keras.optimizers import Adam\n",
    "\n",
    "from rl.agents.dqn import DQNAgent\n",
    "from rl.policy import BoltzmannQPolicy\n",
    "from rl.memory import SequentialMemory\n",
    "\n",
    "import numpy as np \n",
    "import random \n",
    "import matplotlib.pyplot as plt\n",
    "import time\n",
    "\n",
    "#   DQN Algorith Paramaters \n",
    "ACTIONS = 3 # Number of Actions.  Acton istelf is a scalar:  0:stay, 1:Up, 2:Down\n",
    "STATECOUNT = 5 # Size of State [ PlayerYPos, BallXPos, BallYPos, BallXDirection, BallYDirection] \n",
    "TOTAL_GAMETIME = 15000"
   ]
  },
  {
   "cell_type": "code",
   "execution_count": null,
   "metadata": {},
   "outputs": [],
   "source": [
    "# Normalise GameState\n",
    "def CaptureNormalisedState(PlayerYPos, BallXPos, BallYPos, BallXDirection, BallYDirection):\n",
    "    gstate = np.zeros([STATECOUNT])\n",
    "    gstate[0] = PlayerYPos/400.0\t# Normalised PlayerYPos\n",
    "    gstate[1] = BallXPos/400.0\t# Normalised BallXPos\n",
    "    gstate[2] = BallYPos/400.0\t# Normalised BallYPos\n",
    "    gstate[3] = BallXDirection/1.0\t# Normalised BallXDirection\n",
    "    gstate[4] = BallYDirection/1.0\t# Normalised BallYDirection\n",
    "\n",
    "    return gstate"
   ]
  },
  {
   "cell_type": "code",
   "execution_count": null,
   "metadata": {},
   "outputs": [],
   "source": [
    "model = Sequential()\n",
    "\n",
    "# Simple Model with Two Hidden Layers and a Linear Output Layer. The Input layer is simply the State input. \n",
    "model.add(Dense(units=64, activation='relu', input_dim=self.NbrStates))\n",
    "model.add(Dense(units=32, activation='relu'))\n",
    "model.add(Dense(units=self.NbrActions, activation='linear'))\t\t\t\t# Linear Output Layer as we are estimating a Function Q[S,A]\n",
    "\n",
    "print(model.summary())"
   ]
  }
 ],
 "metadata": {
  "kernelspec": {
   "display_name": "Python 3",
   "language": "python",
   "name": "python3"
  },
  "language_info": {
   "codemirror_mode": {
    "name": "ipython",
    "version": 3
   },
   "file_extension": ".py",
   "mimetype": "text/x-python",
   "name": "python",
   "nbconvert_exporter": "python",
   "pygments_lexer": "ipython3",
   "version": "3.5.2"
  }
 },
 "nbformat": 4,
 "nbformat_minor": 2
}
