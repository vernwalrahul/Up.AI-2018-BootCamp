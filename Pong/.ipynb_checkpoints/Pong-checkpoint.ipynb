{
 "cells": [
  {
   "cell_type": "markdown",
   "metadata": {},
   "source": [
    "# Learning to play Pong"
   ]
  },
  {
   "cell_type": "code",
   "execution_count": null,
   "metadata": {},
   "outputs": [],
   "source": [
    "import MyPong # My PyGame Pong Game \n",
    "import MyAgent # My DQN Based Agent\n",
    "import numpy as np \n",
    "import random \n",
    "import matplotlib.pyplot as plt\n",
    "import time\n",
    "\n",
    "#   DQN Algorith Paramaters \n",
    "ACTIONS = 3 # Number of Actions.  Acton istelf is a scalar:  0:stay, 1:Up, 2:Down\n",
    "STATECOUNT = 5 # Size of State [ PlayerYPos, BallXPos, BallYPos, BallXDirection, BallYDirection] \n",
    "TOTAL_GAMETIME = 15000"
   ]
  },
  {
   "cell_type": "code",
   "execution_count": null,
   "metadata": {},
   "outputs": [],
   "source": [
    "# Normalise GameState\n",
    "def CaptureNormalisedState(PlayerYPos, BallXPos, BallYPos, BallXDirection, BallYDirection):\n",
    "    gstate = np.zeros([STATECOUNT])\n",
    "    gstate[0] = PlayerYPos/400.0\t# Normalised PlayerYPos\n",
    "    gstate[1] = BallXPos/400.0\t# Normalised BallXPos\n",
    "    gstate[2] = BallYPos/400.0\t# Normalised BallYPos\n",
    "    gstate[3] = BallXDirection/1.0\t# Normalised BallXDirection\n",
    "    gstate[4] = BallYDirection/1.0\t# Normalised BallYDirection\n",
    "\n",
    "    return gstate"
   ]
  },
  {
   "cell_type": "code",
   "execution_count": null,
   "metadata": {},
   "outputs": [],
   "source": []
  }
 ],
 "metadata": {
  "kernelspec": {
   "display_name": "Python 3",
   "language": "python",
   "name": "python3"
  },
  "language_info": {
   "codemirror_mode": {
    "name": "ipython",
    "version": 3
   },
   "file_extension": ".py",
   "mimetype": "text/x-python",
   "name": "python",
   "nbconvert_exporter": "python",
   "pygments_lexer": "ipython3",
   "version": "3.5.2"
  }
 },
 "nbformat": 4,
 "nbformat_minor": 2
}
