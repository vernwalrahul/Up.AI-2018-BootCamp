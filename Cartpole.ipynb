{
 "cells": [
  {
   "cell_type": "markdown",
   "metadata": {},
   "source": [
    "# Cart-Pole Balancing with Deep Q Network"
   ]
  },
  {
   "cell_type": "code",
   "execution_count": 1,
   "metadata": {},
   "outputs": [
    {
     "name": "stderr",
     "output_type": "stream",
     "text": [
      "/home/vernwalrahul/.local/lib/python3.5/site-packages/h5py/__init__.py:36: FutureWarning: Conversion of the second argument of issubdtype from `float` to `np.floating` is deprecated. In future, it will be treated as `np.float64 == np.dtype(float).type`.\n",
      "  from ._conv import register_converters as _register_converters\n",
      "Using TensorFlow backend.\n"
     ]
    }
   ],
   "source": [
    "import numpy as np\n",
    "import gym\n",
    "\n",
    "from keras.models import Sequential\n",
    "from keras.layers import Dense, Activation, Flatten\n",
    "from keras.optimizers import Adam\n",
    "\n",
    "from rl.agents.dqn import DQNAgent\n",
    "from rl.policy import BoltzmannQPolicy\n",
    "from rl.memory import SequentialMemory\n",
    "\n",
    "ENV_NAME = 'CartPole-v0'"
   ]
  },
  {
   "cell_type": "code",
   "execution_count": 2,
   "metadata": {},
   "outputs": [
    {
     "name": "stdout",
     "output_type": "stream",
     "text": [
      "\u001b[33mWARN: gym.spaces.Box autodetected dtype as <class 'numpy.float32'>. Please provide explicit dtype.\u001b[0m\n"
     ]
    }
   ],
   "source": [
    "# Get the environment and extract the number of actions.\n",
    "env = gym.make(ENV_NAME)\n",
    "np.random.seed(123)\n",
    "env.seed(123)\n",
    "\n",
    "nb_actions = env.action_space.n\n",
    "obs_dim = env.observation_space.shape[0]"
   ]
  },
  {
   "cell_type": "code",
   "execution_count": 3,
   "metadata": {},
   "outputs": [
    {
     "name": "stdout",
     "output_type": "stream",
     "text": [
      "_________________________________________________________________\n",
      "Layer (type)                 Output Shape              Param #   \n",
      "=================================================================\n",
      "flatten_1 (Flatten)          (None, 4)                 0         \n",
      "_________________________________________________________________\n",
      "dense_1 (Dense)              (None, 16)                80        \n",
      "_________________________________________________________________\n",
      "activation_1 (Activation)    (None, 16)                0         \n",
      "_________________________________________________________________\n",
      "dense_2 (Dense)              (None, 16)                272       \n",
      "_________________________________________________________________\n",
      "activation_2 (Activation)    (None, 16)                0         \n",
      "_________________________________________________________________\n",
      "dense_3 (Dense)              (None, 16)                272       \n",
      "_________________________________________________________________\n",
      "activation_3 (Activation)    (None, 16)                0         \n",
      "_________________________________________________________________\n",
      "dense_4 (Dense)              (None, 2)                 34        \n",
      "_________________________________________________________________\n",
      "activation_4 (Activation)    (None, 2)                 0         \n",
      "=================================================================\n",
      "Total params: 658\n",
      "Trainable params: 658\n",
      "Non-trainable params: 0\n",
      "_________________________________________________________________\n",
      "None\n"
     ]
    }
   ],
   "source": [
    "model = Sequential()\n",
    "model.add(Flatten(input_shape=(1,) + env.observation_space.shape))\n",
    "model.add(Dense(16))\n",
    "model.add(Activation('relu'))\n",
    "model.add(Dense(16))\n",
    "model.add(Activation('relu'))\n",
    "model.add(Dense(16))\n",
    "model.add(Activation('relu'))\n",
    "model.add(Dense(nb_actions))\n",
    "model.add(Activation('linear'))\n",
    "print(model.summary())"
   ]
  },
  {
   "cell_type": "code",
   "execution_count": 5,
   "metadata": {
    "scrolled": true
   },
   "outputs": [
    {
     "name": "stdout",
     "output_type": "stream",
     "text": [
      "Training for 50000 steps ...\n"
     ]
    },
    {
     "name": "stderr",
     "output_type": "stream",
     "text": [
      "/home/vernwalrahul/my_project/Up.AI-2018-BootCamp/rl/memory.py:39: UserWarning: Not enough entries to sample without replacement. Consider increasing your warm-up phase to avoid oversampling!\n",
      "  warnings.warn('Not enough entries to sample without replacement. Consider increasing your warm-up phase to avoid oversampling!')\n"
     ]
    },
    {
     "name": "stdout",
     "output_type": "stream",
     "text": [
      "    26/50000: episode: 1, duration: 4.275s, episode steps: 26, steps per second: 6, episode reward: 26.000, mean reward: 1.000 [1.000, 1.000], mean action: 0.423 [0.000, 1.000], mean observation: 0.073 [-1.313, 1.982], loss: 0.491183, mean_absolute_error: 0.570008, mean_q: 0.180484\n"
     ]
    },
    {
     "name": "stderr",
     "output_type": "stream",
     "text": [
      "/home/vernwalrahul/my_project/Up.AI-2018-BootCamp/rl/memory.py:39: UserWarning: Not enough entries to sample without replacement. Consider increasing your warm-up phase to avoid oversampling!\n",
      "  warnings.warn('Not enough entries to sample without replacement. Consider increasing your warm-up phase to avoid oversampling!')\n"
     ]
    },
    {
     "name": "stdout",
     "output_type": "stream",
     "text": [
      "    58/50000: episode: 2, duration: 0.532s, episode steps: 32, steps per second: 60, episode reward: 32.000, mean reward: 1.000 [1.000, 1.000], mean action: 0.344 [0.000, 1.000], mean observation: 0.006 [-1.883, 2.595], loss: 0.292626, mean_absolute_error: 0.598018, mean_q: 0.497574\n",
      "    71/50000: episode: 3, duration: 0.217s, episode steps: 13, steps per second: 60, episode reward: 13.000, mean reward: 1.000 [1.000, 1.000], mean action: 0.231 [0.000, 1.000], mean observation: 0.094 [-1.396, 2.260], loss: 0.146170, mean_absolute_error: 0.699270, mean_q: 0.963982\n",
      "    99/50000: episode: 4, duration: 0.455s, episode steps: 28, steps per second: 62, episode reward: 28.000, mean reward: 1.000 [1.000, 1.000], mean action: 0.357 [0.000, 1.000], mean observation: 0.050 [-1.531, 2.527], loss: 0.082399, mean_absolute_error: 0.748076, mean_q: 1.243288\n",
      "   123/50000: episode: 5, duration: 0.400s, episode steps: 24, steps per second: 60, episode reward: 24.000, mean reward: 1.000 [1.000, 1.000], mean action: 0.375 [0.000, 1.000], mean observation: 0.081 [-1.179, 2.152], loss: 0.051084, mean_absolute_error: 0.832907, mean_q: 1.549722\n",
      "   151/50000: episode: 6, duration: 0.463s, episode steps: 28, steps per second: 61, episode reward: 28.000, mean reward: 1.000 [1.000, 1.000], mean action: 0.464 [0.000, 1.000], mean observation: -0.099 [-0.865, 0.628], loss: 0.045012, mean_absolute_error: 0.926582, mean_q: 1.727781\n",
      "   164/50000: episode: 7, duration: 0.218s, episode steps: 13, steps per second: 60, episode reward: 13.000, mean reward: 1.000 [1.000, 1.000], mean action: 0.308 [0.000, 1.000], mean observation: 0.112 [-0.991, 1.738], loss: 0.049842, mean_absolute_error: 0.992005, mean_q: 1.845080\n",
      "   181/50000: episode: 8, duration: 0.273s, episode steps: 17, steps per second: 62, episode reward: 17.000, mean reward: 1.000 [1.000, 1.000], mean action: 0.471 [0.000, 1.000], mean observation: 0.114 [-0.737, 1.214], loss: 0.047993, mean_absolute_error: 1.039418, mean_q: 1.962325\n",
      "   223/50000: episode: 9, duration: 0.696s, episode steps: 42, steps per second: 60, episode reward: 42.000, mean reward: 1.000 [1.000, 1.000], mean action: 0.619 [0.000, 1.000], mean observation: 0.063 [-2.318, 1.906], loss: 0.046889, mean_absolute_error: 1.119459, mean_q: 2.138798\n",
      "   233/50000: episode: 10, duration: 0.162s, episode steps: 10, steps per second: 62, episode reward: 10.000, mean reward: 1.000 [1.000, 1.000], mean action: 0.100 [0.000, 1.000], mean observation: 0.137 [-1.594, 2.521], loss: 0.084228, mean_absolute_error: 1.233036, mean_q: 2.341652\n",
      "   247/50000: episode: 11, duration: 0.233s, episode steps: 14, steps per second: 60, episode reward: 14.000, mean reward: 1.000 [1.000, 1.000], mean action: 0.214 [0.000, 1.000], mean observation: 0.088 [-1.522, 2.429], loss: 0.069675, mean_absolute_error: 1.254939, mean_q: 2.406801\n",
      "   264/50000: episode: 12, duration: 0.280s, episode steps: 17, steps per second: 61, episode reward: 17.000, mean reward: 1.000 [1.000, 1.000], mean action: 0.588 [0.000, 1.000], mean observation: -0.079 [-1.555, 0.837], loss: 0.077803, mean_absolute_error: 1.343363, mean_q: 2.554790\n",
      "   293/50000: episode: 13, duration: 0.487s, episode steps: 29, steps per second: 60, episode reward: 29.000, mean reward: 1.000 [1.000, 1.000], mean action: 0.586 [0.000, 1.000], mean observation: -0.072 [-1.993, 1.014], loss: 0.075201, mean_absolute_error: 1.419177, mean_q: 2.709066\n",
      "   309/50000: episode: 14, duration: 0.256s, episode steps: 16, steps per second: 62, episode reward: 16.000, mean reward: 1.000 [1.000, 1.000], mean action: 0.250 [0.000, 1.000], mean observation: 0.090 [-1.578, 2.665], loss: 0.084512, mean_absolute_error: 1.521381, mean_q: 2.932036\n",
      "   326/50000: episode: 15, duration: 0.280s, episode steps: 17, steps per second: 61, episode reward: 17.000, mean reward: 1.000 [1.000, 1.000], mean action: 0.529 [0.000, 1.000], mean observation: 0.096 [-0.590, 1.191], loss: 0.086002, mean_absolute_error: 1.563157, mean_q: 3.002340\n",
      "   335/50000: episode: 16, duration: 0.150s, episode steps: 9, steps per second: 60, episode reward: 9.000, mean reward: 1.000 [1.000, 1.000], mean action: 0.778 [0.000, 1.000], mean observation: -0.141 [-1.857, 1.191], loss: 0.106002, mean_absolute_error: 1.633608, mean_q: 3.134322\n",
      "   351/50000: episode: 17, duration: 0.264s, episode steps: 16, steps per second: 61, episode reward: 16.000, mean reward: 1.000 [1.000, 1.000], mean action: 0.375 [0.000, 1.000], mean observation: 0.083 [-0.995, 1.676], loss: 0.103556, mean_absolute_error: 1.670173, mean_q: 3.195302\n",
      "   372/50000: episode: 18, duration: 0.343s, episode steps: 21, steps per second: 61, episode reward: 21.000, mean reward: 1.000 [1.000, 1.000], mean action: 0.524 [0.000, 1.000], mean observation: -0.069 [-0.946, 0.613], loss: 0.108923, mean_absolute_error: 1.757334, mean_q: 3.363478\n",
      "   386/50000: episode: 19, duration: 0.237s, episode steps: 14, steps per second: 59, episode reward: 14.000, mean reward: 1.000 [1.000, 1.000], mean action: 0.357 [0.000, 1.000], mean observation: 0.102 [-0.789, 1.505], loss: 0.136330, mean_absolute_error: 1.864258, mean_q: 3.594861\n",
      "   401/50000: episode: 20, duration: 0.250s, episode steps: 15, steps per second: 60, episode reward: 15.000, mean reward: 1.000 [1.000, 1.000], mean action: 0.667 [0.000, 1.000], mean observation: -0.060 [-1.681, 1.007], loss: 0.154934, mean_absolute_error: 1.872173, mean_q: 3.582937\n",
      "   421/50000: episode: 21, duration: 0.323s, episode steps: 20, steps per second: 62, episode reward: 20.000, mean reward: 1.000 [1.000, 1.000], mean action: 0.450 [0.000, 1.000], mean observation: 0.064 [-0.801, 1.387], loss: 0.157610, mean_absolute_error: 1.966160, mean_q: 3.764725\n",
      "   446/50000: episode: 22, duration: 0.410s, episode steps: 25, steps per second: 61, episode reward: 25.000, mean reward: 1.000 [1.000, 1.000], mean action: 0.560 [0.000, 1.000], mean observation: 0.105 [-0.481, 0.895], loss: 0.112350, mean_absolute_error: 2.040484, mean_q: 3.976093\n",
      "   474/50000: episode: 23, duration: 0.463s, episode steps: 28, steps per second: 60, episode reward: 28.000, mean reward: 1.000 [1.000, 1.000], mean action: 0.536 [0.000, 1.000], mean observation: -0.047 [-1.335, 0.619], loss: 0.173620, mean_absolute_error: 2.149158, mean_q: 4.115324\n",
      "   496/50000: episode: 24, duration: 0.364s, episode steps: 22, steps per second: 60, episode reward: 22.000, mean reward: 1.000 [1.000, 1.000], mean action: 0.455 [0.000, 1.000], mean observation: 0.053 [-0.802, 1.316], loss: 0.185871, mean_absolute_error: 2.265967, mean_q: 4.346728\n",
      "   526/50000: episode: 25, duration: 0.499s, episode steps: 30, steps per second: 60, episode reward: 30.000, mean reward: 1.000 [1.000, 1.000], mean action: 0.433 [0.000, 1.000], mean observation: 0.039 [-1.151, 1.692], loss: 0.211269, mean_absolute_error: 2.362583, mean_q: 4.507600\n",
      "   544/50000: episode: 26, duration: 0.297s, episode steps: 18, steps per second: 61, episode reward: 18.000, mean reward: 1.000 [1.000, 1.000], mean action: 0.389 [0.000, 1.000], mean observation: 0.063 [-0.805, 1.481], loss: 0.204674, mean_absolute_error: 2.455947, mean_q: 4.702473\n",
      "   569/50000: episode: 27, duration: 0.411s, episode steps: 25, steps per second: 61, episode reward: 25.000, mean reward: 1.000 [1.000, 1.000], mean action: 0.560 [0.000, 1.000], mean observation: 0.091 [-0.834, 1.332], loss: 0.178509, mean_absolute_error: 2.539220, mean_q: 4.898408\n",
      "   592/50000: episode: 28, duration: 0.383s, episode steps: 23, steps per second: 60, episode reward: 23.000, mean reward: 1.000 [1.000, 1.000], mean action: 0.391 [0.000, 1.000], mean observation: 0.119 [-0.955, 2.071], loss: 0.284763, mean_absolute_error: 2.633845, mean_q: 5.013581\n",
      "   610/50000: episode: 29, duration: 0.293s, episode steps: 18, steps per second: 61, episode reward: 18.000, mean reward: 1.000 [1.000, 1.000], mean action: 0.500 [0.000, 1.000], mean observation: 0.090 [-0.743, 1.326], loss: 0.210214, mean_absolute_error: 2.708432, mean_q: 5.237341\n",
      "   637/50000: episode: 30, duration: 0.447s, episode steps: 27, steps per second: 60, episode reward: 27.000, mean reward: 1.000 [1.000, 1.000], mean action: 0.481 [0.000, 1.000], mean observation: -0.081 [-0.999, 0.568], loss: 0.270187, mean_absolute_error: 2.797804, mean_q: 5.378232\n"
     ]
    },
    {
     "name": "stdout",
     "output_type": "stream",
     "text": [
      "   653/50000: episode: 31, duration: 0.263s, episode steps: 16, steps per second: 61, episode reward: 16.000, mean reward: 1.000 [1.000, 1.000], mean action: 0.312 [0.000, 1.000], mean observation: 0.086 [-1.232, 2.202], loss: 0.249145, mean_absolute_error: 2.906821, mean_q: 5.621923\n",
      "   690/50000: episode: 32, duration: 0.619s, episode steps: 37, steps per second: 60, episode reward: 37.000, mean reward: 1.000 [1.000, 1.000], mean action: 0.514 [0.000, 1.000], mean observation: -0.054 [-1.314, 0.627], loss: 0.279943, mean_absolute_error: 3.016434, mean_q: 5.814441\n",
      "   717/50000: episode: 33, duration: 0.440s, episode steps: 27, steps per second: 61, episode reward: 27.000, mean reward: 1.000 [1.000, 1.000], mean action: 0.481 [0.000, 1.000], mean observation: -0.040 [-1.483, 1.027], loss: 0.278819, mean_absolute_error: 3.129076, mean_q: 6.035770\n",
      "   732/50000: episode: 34, duration: 0.251s, episode steps: 15, steps per second: 60, episode reward: 15.000, mean reward: 1.000 [1.000, 1.000], mean action: 0.467 [0.000, 1.000], mean observation: 0.094 [-0.618, 1.150], loss: 0.455529, mean_absolute_error: 3.234178, mean_q: 6.152674\n",
      "   756/50000: episode: 35, duration: 0.393s, episode steps: 24, steps per second: 61, episode reward: 24.000, mean reward: 1.000 [1.000, 1.000], mean action: 0.458 [0.000, 1.000], mean observation: -0.107 [-0.861, 0.380], loss: 0.279755, mean_absolute_error: 3.281840, mean_q: 6.372667\n",
      "   786/50000: episode: 36, duration: 0.499s, episode steps: 30, steps per second: 60, episode reward: 30.000, mean reward: 1.000 [1.000, 1.000], mean action: 0.533 [0.000, 1.000], mean observation: -0.071 [-1.209, 0.614], loss: 0.405991, mean_absolute_error: 3.393132, mean_q: 6.548050\n",
      "   808/50000: episode: 37, duration: 0.364s, episode steps: 22, steps per second: 60, episode reward: 22.000, mean reward: 1.000 [1.000, 1.000], mean action: 0.409 [0.000, 1.000], mean observation: 0.060 [-1.155, 1.880], loss: 0.296304, mean_absolute_error: 3.525249, mean_q: 6.815741\n",
      "   823/50000: episode: 38, duration: 0.248s, episode steps: 15, steps per second: 61, episode reward: 15.000, mean reward: 1.000 [1.000, 1.000], mean action: 0.400 [0.000, 1.000], mean observation: 0.093 [-0.986, 1.639], loss: 0.274910, mean_absolute_error: 3.612015, mean_q: 7.058462\n",
      "   851/50000: episode: 39, duration: 0.459s, episode steps: 28, steps per second: 61, episode reward: 28.000, mean reward: 1.000 [1.000, 1.000], mean action: 0.500 [0.000, 1.000], mean observation: -0.072 [-1.213, 0.770], loss: 0.440305, mean_absolute_error: 3.670080, mean_q: 7.066987\n",
      "   868/50000: episode: 40, duration: 0.285s, episode steps: 17, steps per second: 60, episode reward: 17.000, mean reward: 1.000 [1.000, 1.000], mean action: 0.588 [0.000, 1.000], mean observation: -0.053 [-1.373, 0.976], loss: 0.318495, mean_absolute_error: 3.767676, mean_q: 7.336797\n",
      "   888/50000: episode: 41, duration: 0.321s, episode steps: 20, steps per second: 62, episode reward: 20.000, mean reward: 1.000 [1.000, 1.000], mean action: 0.550 [0.000, 1.000], mean observation: -0.086 [-1.220, 0.552], loss: 0.500893, mean_absolute_error: 3.851810, mean_q: 7.463521\n",
      "   925/50000: episode: 42, duration: 0.615s, episode steps: 37, steps per second: 60, episode reward: 37.000, mean reward: 1.000 [1.000, 1.000], mean action: 0.486 [0.000, 1.000], mean observation: 0.068 [-0.776, 1.147], loss: 0.519983, mean_absolute_error: 3.955921, mean_q: 7.635778\n",
      "   963/50000: episode: 43, duration: 0.629s, episode steps: 38, steps per second: 60, episode reward: 38.000, mean reward: 1.000 [1.000, 1.000], mean action: 0.553 [0.000, 1.000], mean observation: -0.035 [-1.877, 1.032], loss: 0.387843, mean_absolute_error: 4.105567, mean_q: 7.975718\n",
      "   995/50000: episode: 44, duration: 0.527s, episode steps: 32, steps per second: 61, episode reward: 32.000, mean reward: 1.000 [1.000, 1.000], mean action: 0.438 [0.000, 1.000], mean observation: 0.064 [-1.133, 1.837], loss: 0.433962, mean_absolute_error: 4.240606, mean_q: 8.232967\n",
      "  1013/50000: episode: 45, duration: 0.300s, episode steps: 18, steps per second: 60, episode reward: 18.000, mean reward: 1.000 [1.000, 1.000], mean action: 0.444 [0.000, 1.000], mean observation: 0.103 [-0.751, 1.365], loss: 0.507118, mean_absolute_error: 4.322319, mean_q: 8.334878\n",
      "  1043/50000: episode: 46, duration: 0.490s, episode steps: 30, steps per second: 61, episode reward: 30.000, mean reward: 1.000 [1.000, 1.000], mean action: 0.567 [0.000, 1.000], mean observation: -0.066 [-1.905, 0.851], loss: 0.404752, mean_absolute_error: 4.402052, mean_q: 8.591909\n",
      "  1088/50000: episode: 47, duration: 0.745s, episode steps: 45, steps per second: 60, episode reward: 45.000, mean reward: 1.000 [1.000, 1.000], mean action: 0.489 [0.000, 1.000], mean observation: 0.028 [-0.639, 1.349], loss: 0.603024, mean_absolute_error: 4.545851, mean_q: 8.771218\n",
      "  1109/50000: episode: 48, duration: 0.350s, episode steps: 21, steps per second: 60, episode reward: 21.000, mean reward: 1.000 [1.000, 1.000], mean action: 0.476 [0.000, 1.000], mean observation: 0.090 [-0.605, 1.158], loss: 0.512160, mean_absolute_error: 4.649455, mean_q: 9.016967\n",
      "  1158/50000: episode: 49, duration: 0.809s, episode steps: 49, steps per second: 61, episode reward: 49.000, mean reward: 1.000 [1.000, 1.000], mean action: 0.469 [0.000, 1.000], mean observation: -0.172 [-1.134, 0.718], loss: 0.552277, mean_absolute_error: 4.752557, mean_q: 9.212442\n",
      "  1198/50000: episode: 50, duration: 0.665s, episode steps: 40, steps per second: 60, episode reward: 40.000, mean reward: 1.000 [1.000, 1.000], mean action: 0.475 [0.000, 1.000], mean observation: 0.012 [-1.128, 1.563], loss: 0.458033, mean_absolute_error: 4.909063, mean_q: 9.600200\n",
      "  1231/50000: episode: 51, duration: 0.545s, episode steps: 33, steps per second: 61, episode reward: 33.000, mean reward: 1.000 [1.000, 1.000], mean action: 0.455 [0.000, 1.000], mean observation: -0.160 [-0.949, 0.554], loss: 0.524242, mean_absolute_error: 5.049133, mean_q: 9.829082\n",
      "  1247/50000: episode: 52, duration: 0.261s, episode steps: 16, steps per second: 61, episode reward: 16.000, mean reward: 1.000 [1.000, 1.000], mean action: 0.375 [0.000, 1.000], mean observation: 0.088 [-1.027, 1.712], loss: 0.265726, mean_absolute_error: 5.129591, mean_q: 10.158089\n",
      "  1278/50000: episode: 53, duration: 0.516s, episode steps: 31, steps per second: 60, episode reward: 31.000, mean reward: 1.000 [1.000, 1.000], mean action: 0.484 [0.000, 1.000], mean observation: 0.082 [-0.596, 1.337], loss: 0.520418, mean_absolute_error: 5.226406, mean_q: 10.238041\n",
      "  1292/50000: episode: 54, duration: 0.234s, episode steps: 14, steps per second: 60, episode reward: 14.000, mean reward: 1.000 [1.000, 1.000], mean action: 0.357 [0.000, 1.000], mean observation: 0.099 [-0.966, 1.724], loss: 0.580849, mean_absolute_error: 5.275032, mean_q: 10.283614\n",
      "  1344/50000: episode: 55, duration: 0.851s, episode steps: 52, steps per second: 61, episode reward: 52.000, mean reward: 1.000 [1.000, 1.000], mean action: 0.481 [0.000, 1.000], mean observation: -0.140 [-1.073, 0.846], loss: 0.445454, mean_absolute_error: 5.395676, mean_q: 10.654754\n",
      "  1421/50000: episode: 56, duration: 1.277s, episode steps: 77, steps per second: 60, episode reward: 77.000, mean reward: 1.000 [1.000, 1.000], mean action: 0.494 [0.000, 1.000], mean observation: 0.081 [-1.110, 1.321], loss: 0.457306, mean_absolute_error: 5.594507, mean_q: 11.055540\n",
      "  1439/50000: episode: 57, duration: 0.294s, episode steps: 18, steps per second: 61, episode reward: 18.000, mean reward: 1.000 [1.000, 1.000], mean action: 0.500 [0.000, 1.000], mean observation: 0.073 [-0.946, 1.469], loss: 0.406610, mean_absolute_error: 5.856346, mean_q: 11.637311\n",
      "  1516/50000: episode: 58, duration: 1.275s, episode steps: 77, steps per second: 60, episode reward: 77.000, mean reward: 1.000 [1.000, 1.000], mean action: 0.481 [0.000, 1.000], mean observation: -0.261 [-1.527, 0.809], loss: 0.416079, mean_absolute_error: 5.956984, mean_q: 11.880441\n",
      "  1631/50000: episode: 59, duration: 1.906s, episode steps: 115, steps per second: 60, episode reward: 115.000, mean reward: 1.000 [1.000, 1.000], mean action: 0.487 [0.000, 1.000], mean observation: -0.179 [-1.183, 1.105], loss: 0.475815, mean_absolute_error: 6.290598, mean_q: 12.591395\n"
     ]
    },
    {
     "name": "stdout",
     "output_type": "stream",
     "text": [
      "  1737/50000: episode: 60, duration: 1.756s, episode steps: 106, steps per second: 60, episode reward: 106.000, mean reward: 1.000 [1.000, 1.000], mean action: 0.462 [0.000, 1.000], mean observation: -0.290 [-1.684, 0.799], loss: 0.588892, mean_absolute_error: 6.701797, mean_q: 13.388493\n",
      "  1763/50000: episode: 61, duration: 0.434s, episode steps: 26, steps per second: 60, episode reward: 26.000, mean reward: 1.000 [1.000, 1.000], mean action: 0.500 [0.000, 1.000], mean observation: -0.049 [-1.459, 0.980], loss: 0.515016, mean_absolute_error: 6.955304, mean_q: 13.981734\n",
      "  1847/50000: episode: 62, duration: 1.386s, episode steps: 84, steps per second: 61, episode reward: 84.000, mean reward: 1.000 [1.000, 1.000], mean action: 0.476 [0.000, 1.000], mean observation: -0.231 [-0.942, 0.658], loss: 0.509246, mean_absolute_error: 7.115612, mean_q: 14.307262\n",
      "  1954/50000: episode: 63, duration: 1.781s, episode steps: 107, steps per second: 60, episode reward: 107.000, mean reward: 1.000 [1.000, 1.000], mean action: 0.477 [0.000, 1.000], mean observation: -0.243 [-1.444, 0.938], loss: 0.620553, mean_absolute_error: 7.537993, mean_q: 15.185238\n",
      "  2073/50000: episode: 64, duration: 1.966s, episode steps: 119, steps per second: 61, episode reward: 119.000, mean reward: 1.000 [1.000, 1.000], mean action: 0.487 [0.000, 1.000], mean observation: -0.313 [-1.878, 0.991], loss: 0.524283, mean_absolute_error: 7.902861, mean_q: 16.043827\n",
      "  2203/50000: episode: 65, duration: 2.150s, episode steps: 130, steps per second: 60, episode reward: 130.000, mean reward: 1.000 [1.000, 1.000], mean action: 0.492 [0.000, 1.000], mean observation: -0.291 [-2.028, 1.243], loss: 0.557555, mean_absolute_error: 8.461771, mean_q: 17.255720\n",
      "  2326/50000: episode: 66, duration: 2.040s, episode steps: 123, steps per second: 60, episode reward: 123.000, mean reward: 1.000 [1.000, 1.000], mean action: 0.472 [0.000, 1.000], mean observation: -0.284 [-1.644, 1.079], loss: 0.672136, mean_absolute_error: 9.028349, mean_q: 18.429644\n",
      "  2471/50000: episode: 67, duration: 2.433s, episode steps: 145, steps per second: 60, episode reward: 145.000, mean reward: 1.000 [1.000, 1.000], mean action: 0.490 [0.000, 1.000], mean observation: -0.119 [-1.539, 1.282], loss: 0.683410, mean_absolute_error: 9.685470, mean_q: 19.715439\n",
      "  2614/50000: episode: 68, duration: 2.375s, episode steps: 143, steps per second: 60, episode reward: 143.000, mean reward: 1.000 [1.000, 1.000], mean action: 0.476 [0.000, 1.000], mean observation: -0.264 [-1.647, 0.877], loss: 0.675615, mean_absolute_error: 10.331087, mean_q: 21.145002\n",
      "  2814/50000: episode: 69, duration: 3.310s, episode steps: 200, steps per second: 60, episode reward: 200.000, mean reward: 1.000 [1.000, 1.000], mean action: 0.475 [0.000, 1.000], mean observation: -0.156 [-1.827, 1.161], loss: 0.876951, mean_absolute_error: 11.109494, mean_q: 22.677603\n",
      "  3014/50000: episode: 70, duration: 3.311s, episode steps: 200, steps per second: 60, episode reward: 200.000, mean reward: 1.000 [1.000, 1.000], mean action: 0.475 [0.000, 1.000], mean observation: -0.246 [-2.251, 0.952], loss: 0.949386, mean_absolute_error: 12.071102, mean_q: 24.712461\n",
      "  3214/50000: episode: 71, duration: 3.313s, episode steps: 200, steps per second: 60, episode reward: 200.000, mean reward: 1.000 [1.000, 1.000], mean action: 0.515 [0.000, 1.000], mean observation: 0.153 [-0.920, 1.324], loss: 1.021456, mean_absolute_error: 12.997070, mean_q: 26.557436\n",
      "  3365/50000: episode: 72, duration: 2.500s, episode steps: 151, steps per second: 60, episode reward: 151.000, mean reward: 1.000 [1.000, 1.000], mean action: 0.464 [0.000, 1.000], mean observation: -0.368 [-2.102, 0.712], loss: 1.444691, mean_absolute_error: 13.802891, mean_q: 28.112957\n",
      "  3565/50000: episode: 73, duration: 3.313s, episode steps: 200, steps per second: 60, episode reward: 200.000, mean reward: 1.000 [1.000, 1.000], mean action: 0.505 [0.000, 1.000], mean observation: 0.024 [-1.251, 1.096], loss: 1.195359, mean_absolute_error: 14.581062, mean_q: 29.706738\n",
      "done, took 65.694 seconds\n"
     ]
    }
   ],
   "source": [
    "# Finally, we configure and compile our agent. You can use every built-in Keras optimizer and\n",
    "# even the metrics!\n",
    "memory = SequentialMemory(limit=50000, window_length=1)\n",
    "policy = BoltzmannQPolicy()\n",
    "dqn = DQNAgent(model=model, nb_actions=nb_actions, memory=memory, nb_steps_warmup=10,\n",
    "               target_model_update=1e-2, policy=policy)\n",
    "dqn.compile(Adam(lr=1e-3), metrics=['mae'])\n",
    "\n",
    "dqn.fit(env, nb_steps=50000, visualize=True, verbose=2)\n",
    "\n",
    "# After training is done, we save the final weights.\n",
    "dqn.save_weights('dqn_{}_weights.h5f'.format(ENV_NAME), overwrite=True)"
   ]
  },
  {
   "cell_type": "code",
   "execution_count": 21,
   "metadata": {},
   "outputs": [
    {
     "name": "stdout",
     "output_type": "stream",
     "text": [
      "Testing for 5 episodes ...\n",
      "Episode 1: reward: 200.000, steps: 200\n",
      "Episode 2: reward: 200.000, steps: 200\n",
      "Episode 3: reward: 200.000, steps: 200\n",
      "Episode 4: reward: 200.000, steps: 200\n",
      "Episode 5: reward: 200.000, steps: 200\n"
     ]
    },
    {
     "data": {
      "text/plain": [
       "<keras.callbacks.History at 0x7f62ffb96278>"
      ]
     },
     "execution_count": 21,
     "metadata": {},
     "output_type": "execute_result"
    }
   ],
   "source": [
    "# Finally, evaluate our algorithm for 5 episodes.\n",
    "dqn.test(env, nb_episodes=5, visualize=True)"
   ]
  }
 ],
 "metadata": {
  "kernelspec": {
   "display_name": "Python 3",
   "language": "python",
   "name": "python3"
  },
  "language_info": {
   "codemirror_mode": {
    "name": "ipython",
    "version": 3
   },
   "file_extension": ".py",
   "mimetype": "text/x-python",
   "name": "python",
   "nbconvert_exporter": "python",
   "pygments_lexer": "ipython3",
   "version": "3.5.2"
  }
 },
 "nbformat": 4,
 "nbformat_minor": 2
}
