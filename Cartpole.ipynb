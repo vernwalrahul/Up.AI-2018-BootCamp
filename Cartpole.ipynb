{
 "cells": [
  {
   "cell_type": "markdown",
   "metadata": {},
   "source": [
    "# Cart-Pole Balancing with Deep Q Network"
   ]
  },
  {
   "cell_type": "code",
   "execution_count": 16,
   "metadata": {},
   "outputs": [],
   "source": [
    "import numpy as np\n",
    "import gym\n",
    "\n",
    "from keras.models import Sequential\n",
    "from keras.layers import Dense, Activation, Flatten\n",
    "from keras.optimizers import Adam\n",
    "\n",
    "from rl.agents.dqn import DQNAgent\n",
    "from rl.policy import BoltzmannQPolicy\n",
    "from rl.memory import SequentialMemory\n",
    "\n",
    "ENV_NAME = 'CartPole-v0'"
   ]
  },
  {
   "cell_type": "code",
   "execution_count": 17,
   "metadata": {},
   "outputs": [
    {
     "name": "stdout",
     "output_type": "stream",
     "text": [
      "\u001b[33mWARN: gym.spaces.Box autodetected dtype as <class 'numpy.float32'>. Please provide explicit dtype.\u001b[0m\n"
     ]
    }
   ],
   "source": [
    "# Get the environment and extract the number of actions.\n",
    "env = gym.make(ENV_NAME)\n",
    "np.random.seed(123)\n",
    "env.seed(123)\n",
    "\n",
    "nb_actions = env.action_space.n\n",
    "obs_dim = env.observation_space.shape[0]"
   ]
  },
  {
   "cell_type": "code",
   "execution_count": 19,
   "metadata": {},
   "outputs": [
    {
     "name": "stdout",
     "output_type": "stream",
     "text": [
      "_________________________________________________________________\n",
      "Layer (type)                 Output Shape              Param #   \n",
      "=================================================================\n",
      "flatten_1 (Flatten)          (None, 4)                 0         \n",
      "_________________________________________________________________\n",
      "dense_1 (Dense)              (None, 16)                80        \n",
      "_________________________________________________________________\n",
      "activation_1 (Activation)    (None, 16)                0         \n",
      "_________________________________________________________________\n",
      "dense_2 (Dense)              (None, 16)                272       \n",
      "_________________________________________________________________\n",
      "activation_2 (Activation)    (None, 16)                0         \n",
      "_________________________________________________________________\n",
      "dense_3 (Dense)              (None, 16)                272       \n",
      "_________________________________________________________________\n",
      "activation_3 (Activation)    (None, 16)                0         \n",
      "_________________________________________________________________\n",
      "dense_4 (Dense)              (None, 2)                 34        \n",
      "_________________________________________________________________\n",
      "activation_4 (Activation)    (None, 2)                 0         \n",
      "=================================================================\n",
      "Total params: 658\n",
      "Trainable params: 658\n",
      "Non-trainable params: 0\n",
      "_________________________________________________________________\n",
      "None\n"
     ]
    }
   ],
   "source": [
    "model = Sequential()\n",
    "model.add(Flatten(input_shape=(1,) + env.observation_space.shape))\n",
    "model.add(Dense(16))\n",
    "model.add(Activation('relu'))\n",
    "model.add(Dense(16))\n",
    "model.add(Activation('relu'))\n",
    "model.add(Dense(16))\n",
    "model.add(Activation('relu'))\n",
    "model.add(Dense(nb_actions))\n",
    "model.add(Activation('linear'))\n",
    "print(model.summary())"
   ]
  },
  {
   "cell_type": "code",
   "execution_count": 20,
   "metadata": {
    "scrolled": true
   },
   "outputs": [
    {
     "name": "stdout",
     "output_type": "stream",
     "text": [
      "Training for 50000 steps ...\n"
     ]
    },
    {
     "name": "stderr",
     "output_type": "stream",
     "text": [
      "/home/vernwalrahul/my_project/Up.AI-2018-BootCamp/rl/memory.py:39: UserWarning: Not enough entries to sample without replacement. Consider increasing your warm-up phase to avoid oversampling!\n",
      "  warnings.warn('Not enough entries to sample without replacement. Consider increasing your warm-up phase to avoid oversampling!')\n"
     ]
    },
    {
     "name": "stdout",
     "output_type": "stream",
     "text": [
      "    31/50000: episode: 1, duration: 1.624s, episode steps: 31, steps per second: 19, episode reward: 31.000, mean reward: 1.000 [1.000, 1.000], mean action: 0.419 [0.000, 1.000], mean observation: 0.013 [-1.185, 1.776], loss: 0.463339, mean_absolute_error: 0.520827, mean_q: 0.095035\n",
      "    44/50000: episode: 2, duration: 0.058s, episode steps: 13, steps per second: 223, episode reward: 13.000, mean reward: 1.000 [1.000, 1.000], mean action: 0.692 [0.000, 1.000], mean observation: -0.069 [-1.867, 1.224], loss: 0.349585, mean_absolute_error: 0.544662, mean_q: 0.295623\n",
      "    64/50000: episode: 3, duration: 0.092s, episode steps: 20, steps per second: 218, episode reward: 20.000, mean reward: 1.000 [1.000, 1.000], mean action: 0.550 [0.000, 1.000], mean observation: -0.070 [-1.375, 0.833], loss: 0.230839, mean_absolute_error: 0.553566, mean_q: 0.485147\n"
     ]
    },
    {
     "name": "stderr",
     "output_type": "stream",
     "text": [
      "/home/vernwalrahul/my_project/Up.AI-2018-BootCamp/rl/memory.py:39: UserWarning: Not enough entries to sample without replacement. Consider increasing your warm-up phase to avoid oversampling!\n",
      "  warnings.warn('Not enough entries to sample without replacement. Consider increasing your warm-up phase to avoid oversampling!')\n"
     ]
    },
    {
     "name": "stdout",
     "output_type": "stream",
     "text": [
      "    83/50000: episode: 4, duration: 0.101s, episode steps: 19, steps per second: 189, episode reward: 19.000, mean reward: 1.000 [1.000, 1.000], mean action: 0.421 [0.000, 1.000], mean observation: 0.074 [-0.817, 1.505], loss: 0.117445, mean_absolute_error: 0.601478, mean_q: 0.810982\n",
      "    98/50000: episode: 5, duration: 0.073s, episode steps: 15, steps per second: 206, episode reward: 15.000, mean reward: 1.000 [1.000, 1.000], mean action: 0.600 [0.000, 1.000], mean observation: -0.090 [-1.368, 0.825], loss: 0.056746, mean_absolute_error: 0.685648, mean_q: 1.166542\n",
      "   114/50000: episode: 6, duration: 0.066s, episode steps: 16, steps per second: 242, episode reward: 16.000, mean reward: 1.000 [1.000, 1.000], mean action: 0.750 [0.000, 1.000], mean observation: -0.069 [-2.711, 1.766], loss: 0.035798, mean_absolute_error: 0.729140, mean_q: 1.335475\n",
      "   128/50000: episode: 7, duration: 0.058s, episode steps: 14, steps per second: 242, episode reward: 14.000, mean reward: 1.000 [1.000, 1.000], mean action: 0.429 [0.000, 1.000], mean observation: 0.111 [-0.934, 1.483], loss: 0.026572, mean_absolute_error: 0.760443, mean_q: 1.455512\n",
      "   151/50000: episode: 8, duration: 0.113s, episode steps: 23, steps per second: 204, episode reward: 23.000, mean reward: 1.000 [1.000, 1.000], mean action: 0.304 [0.000, 1.000], mean observation: 0.050 [-1.760, 2.679], loss: 0.019457, mean_absolute_error: 0.814636, mean_q: 1.630135\n",
      "   162/50000: episode: 9, duration: 0.066s, episode steps: 11, steps per second: 168, episode reward: 11.000, mean reward: 1.000 [1.000, 1.000], mean action: 0.273 [0.000, 1.000], mean observation: 0.133 [-1.133, 1.962], loss: 0.036370, mean_absolute_error: 0.899838, mean_q: 1.802162\n",
      "   175/50000: episode: 10, duration: 0.066s, episode steps: 13, steps per second: 198, episode reward: 13.000, mean reward: 1.000 [1.000, 1.000], mean action: 0.769 [0.000, 1.000], mean observation: -0.118 [-2.439, 1.549], loss: 0.055962, mean_absolute_error: 0.944955, mean_q: 1.837506\n",
      "   208/50000: episode: 11, duration: 0.145s, episode steps: 33, steps per second: 228, episode reward: 33.000, mean reward: 1.000 [1.000, 1.000], mean action: 0.424 [0.000, 1.000], mean observation: 0.004 [-1.381, 1.780], loss: 0.034532, mean_absolute_error: 1.006518, mean_q: 2.045234\n",
      "   223/50000: episode: 12, duration: 0.062s, episode steps: 15, steps per second: 240, episode reward: 15.000, mean reward: 1.000 [1.000, 1.000], mean action: 0.667 [0.000, 1.000], mean observation: -0.096 [-1.845, 1.032], loss: 0.058517, mean_absolute_error: 1.126230, mean_q: 2.247233\n",
      "   235/50000: episode: 13, duration: 0.051s, episode steps: 12, steps per second: 235, episode reward: 12.000, mean reward: 1.000 [1.000, 1.000], mean action: 0.250 [0.000, 1.000], mean observation: 0.124 [-1.329, 2.154], loss: 0.040873, mean_absolute_error: 1.163540, mean_q: 2.382552\n",
      "   249/50000: episode: 14, duration: 0.058s, episode steps: 14, steps per second: 242, episode reward: 14.000, mean reward: 1.000 [1.000, 1.000], mean action: 0.357 [0.000, 1.000], mean observation: 0.103 [-0.965, 1.601], loss: 0.041288, mean_absolute_error: 1.219159, mean_q: 2.515940\n",
      "   264/50000: episode: 15, duration: 0.079s, episode steps: 15, steps per second: 191, episode reward: 15.000, mean reward: 1.000 [1.000, 1.000], mean action: 0.333 [0.000, 1.000], mean observation: 0.086 [-1.187, 2.013], loss: 0.085617, mean_absolute_error: 1.291916, mean_q: 2.558205\n",
      "   289/50000: episode: 16, duration: 0.101s, episode steps: 25, steps per second: 249, episode reward: 25.000, mean reward: 1.000 [1.000, 1.000], mean action: 0.360 [0.000, 1.000], mean observation: 0.054 [-1.365, 2.263], loss: 0.087210, mean_absolute_error: 1.387431, mean_q: 2.786655\n",
      "   339/50000: episode: 17, duration: 0.230s, episode steps: 50, steps per second: 217, episode reward: 50.000, mean reward: 1.000 [1.000, 1.000], mean action: 0.400 [0.000, 1.000], mean observation: -0.120 [-1.895, 2.080], loss: 0.091746, mean_absolute_error: 1.570334, mean_q: 3.139569\n",
      "   376/50000: episode: 18, duration: 0.195s, episode steps: 37, steps per second: 190, episode reward: 37.000, mean reward: 1.000 [1.000, 1.000], mean action: 0.486 [0.000, 1.000], mean observation: -0.094 [-1.154, 0.395], loss: 0.124886, mean_absolute_error: 1.777089, mean_q: 3.513003\n",
      "   410/50000: episode: 19, duration: 0.205s, episode steps: 34, steps per second: 166, episode reward: 34.000, mean reward: 1.000 [1.000, 1.000], mean action: 0.618 [0.000, 1.000], mean observation: -0.008 [-2.359, 1.584], loss: 0.121282, mean_absolute_error: 1.936196, mean_q: 3.807262\n",
      "   422/50000: episode: 20, duration: 0.079s, episode steps: 12, steps per second: 153, episode reward: 12.000, mean reward: 1.000 [1.000, 1.000], mean action: 0.250 [0.000, 1.000], mean observation: 0.120 [-1.177, 2.046], loss: 0.142456, mean_absolute_error: 2.028977, mean_q: 4.013542\n",
      "   433/50000: episode: 21, duration: 0.070s, episode steps: 11, steps per second: 156, episode reward: 11.000, mean reward: 1.000 [1.000, 1.000], mean action: 0.273 [0.000, 1.000], mean observation: 0.140 [-1.154, 1.904], loss: 0.194104, mean_absolute_error: 2.059835, mean_q: 4.060779\n",
      "   445/50000: episode: 22, duration: 0.077s, episode steps: 12, steps per second: 156, episode reward: 12.000, mean reward: 1.000 [1.000, 1.000], mean action: 0.833 [0.000, 1.000], mean observation: -0.102 [-2.480, 1.554], loss: 0.160659, mean_absolute_error: 2.125427, mean_q: 4.091214\n",
      "   460/50000: episode: 23, duration: 0.097s, episode steps: 15, steps per second: 155, episode reward: 15.000, mean reward: 1.000 [1.000, 1.000], mean action: 0.400 [0.000, 1.000], mean observation: 0.120 [-0.569, 1.388], loss: 0.200786, mean_absolute_error: 2.164820, mean_q: 4.243708\n",
      "   475/50000: episode: 24, duration: 0.089s, episode steps: 15, steps per second: 168, episode reward: 15.000, mean reward: 1.000 [1.000, 1.000], mean action: 0.400 [0.000, 1.000], mean observation: 0.111 [-0.780, 1.506], loss: 0.236816, mean_absolute_error: 2.261654, mean_q: 4.324523\n",
      "   525/50000: episode: 25, duration: 0.286s, episode steps: 50, steps per second: 175, episode reward: 50.000, mean reward: 1.000 [1.000, 1.000], mean action: 0.500 [0.000, 1.000], mean observation: -0.167 [-1.656, 0.899], loss: 0.204198, mean_absolute_error: 2.396841, mean_q: 4.617081\n",
      "   541/50000: episode: 26, duration: 0.089s, episode steps: 16, steps per second: 181, episode reward: 16.000, mean reward: 1.000 [1.000, 1.000], mean action: 0.312 [0.000, 1.000], mean observation: 0.097 [-1.170, 2.165], loss: 0.179798, mean_absolute_error: 2.527252, mean_q: 4.887477\n",
      "   558/50000: episode: 27, duration: 0.071s, episode steps: 17, steps per second: 238, episode reward: 17.000, mean reward: 1.000 [1.000, 1.000], mean action: 0.235 [0.000, 1.000], mean observation: 0.049 [-1.766, 2.652], loss: 0.212955, mean_absolute_error: 2.585074, mean_q: 4.970600\n",
      "   574/50000: episode: 28, duration: 0.079s, episode steps: 16, steps per second: 202, episode reward: 16.000, mean reward: 1.000 [1.000, 1.000], mean action: 0.438 [0.000, 1.000], mean observation: 0.084 [-0.640, 1.126], loss: 0.211755, mean_absolute_error: 2.677065, mean_q: 5.134762\n",
      "   601/50000: episode: 29, duration: 0.115s, episode steps: 27, steps per second: 235, episode reward: 27.000, mean reward: 1.000 [1.000, 1.000], mean action: 0.519 [0.000, 1.000], mean observation: -0.048 [-1.111, 0.459], loss: 0.313605, mean_absolute_error: 2.751589, mean_q: 5.202838\n",
      "   619/50000: episode: 30, duration: 0.074s, episode steps: 18, steps per second: 243, episode reward: 18.000, mean reward: 1.000 [1.000, 1.000], mean action: 0.556 [0.000, 1.000], mean observation: -0.076 [-1.150, 0.824], loss: 0.236941, mean_absolute_error: 2.840516, mean_q: 5.429987\n",
      "   644/50000: episode: 31, duration: 0.112s, episode steps: 25, steps per second: 224, episode reward: 25.000, mean reward: 1.000 [1.000, 1.000], mean action: 0.480 [0.000, 1.000], mean observation: 0.054 [-0.810, 1.122], loss: 0.235032, mean_absolute_error: 2.940625, mean_q: 5.659423\n",
      "   664/50000: episode: 32, duration: 0.085s, episode steps: 20, steps per second: 236, episode reward: 20.000, mean reward: 1.000 [1.000, 1.000], mean action: 0.400 [0.000, 1.000], mean observation: 0.067 [-0.844, 1.656], loss: 0.250199, mean_absolute_error: 2.996893, mean_q: 5.745570\n",
      "   680/50000: episode: 33, duration: 0.066s, episode steps: 16, steps per second: 241, episode reward: 16.000, mean reward: 1.000 [1.000, 1.000], mean action: 0.375 [0.000, 1.000], mean observation: 0.085 [-0.961, 1.650], loss: 0.226119, mean_absolute_error: 3.082845, mean_q: 5.958573\n"
     ]
    },
    {
     "name": "stdout",
     "output_type": "stream",
     "text": [
      "   700/50000: episode: 34, duration: 0.094s, episode steps: 20, steps per second: 213, episode reward: 20.000, mean reward: 1.000 [1.000, 1.000], mean action: 0.400 [0.000, 1.000], mean observation: 0.095 [-0.749, 1.651], loss: 0.233555, mean_absolute_error: 3.132175, mean_q: 6.065133\n",
      "   755/50000: episode: 35, duration: 0.230s, episode steps: 55, steps per second: 240, episode reward: 55.000, mean reward: 1.000 [1.000, 1.000], mean action: 0.455 [0.000, 1.000], mean observation: 0.097 [-1.211, 2.213], loss: 0.282160, mean_absolute_error: 3.259107, mean_q: 6.318562\n",
      "   809/50000: episode: 36, duration: 0.219s, episode steps: 54, steps per second: 247, episode reward: 54.000, mean reward: 1.000 [1.000, 1.000], mean action: 0.500 [0.000, 1.000], mean observation: -0.173 [-1.634, 0.532], loss: 0.288126, mean_absolute_error: 3.505757, mean_q: 6.856623\n",
      "   862/50000: episode: 37, duration: 0.214s, episode steps: 53, steps per second: 248, episode reward: 53.000, mean reward: 1.000 [1.000, 1.000], mean action: 0.491 [0.000, 1.000], mean observation: 0.017 [-1.332, 1.655], loss: 0.273646, mean_absolute_error: 3.741987, mean_q: 7.351865\n",
      "   983/50000: episode: 38, duration: 0.486s, episode steps: 121, steps per second: 249, episode reward: 121.000, mean reward: 1.000 [1.000, 1.000], mean action: 0.479 [0.000, 1.000], mean observation: 0.152 [-0.972, 1.887], loss: 0.288715, mean_absolute_error: 4.111480, mean_q: 8.152836\n",
      "  1002/50000: episode: 39, duration: 0.077s, episode steps: 19, steps per second: 246, episode reward: 19.000, mean reward: 1.000 [1.000, 1.000], mean action: 0.474 [0.000, 1.000], mean observation: -0.096 [-0.914, 0.401], loss: 0.332737, mean_absolute_error: 4.396861, mean_q: 8.778155\n",
      "  1064/50000: episode: 40, duration: 0.256s, episode steps: 62, steps per second: 242, episode reward: 62.000, mean reward: 1.000 [1.000, 1.000], mean action: 0.484 [0.000, 1.000], mean observation: -0.124 [-1.112, 0.751], loss: 0.340523, mean_absolute_error: 4.614299, mean_q: 9.229514\n",
      "  1264/50000: episode: 41, duration: 0.811s, episode steps: 200, steps per second: 247, episode reward: 200.000, mean reward: 1.000 [1.000, 1.000], mean action: 0.480 [0.000, 1.000], mean observation: -0.071 [-1.656, 0.968], loss: 0.395367, mean_absolute_error: 5.251045, mean_q: 10.533734\n",
      "  1290/50000: episode: 42, duration: 0.105s, episode steps: 26, steps per second: 247, episode reward: 26.000, mean reward: 1.000 [1.000, 1.000], mean action: 0.577 [0.000, 1.000], mean observation: -0.061 [-1.909, 1.129], loss: 0.519775, mean_absolute_error: 5.749807, mean_q: 11.550951\n",
      "  1490/50000: episode: 43, duration: 0.797s, episode steps: 200, steps per second: 251, episode reward: 200.000, mean reward: 1.000 [1.000, 1.000], mean action: 0.505 [0.000, 1.000], mean observation: 0.042 [-1.472, 1.278], loss: 0.435999, mean_absolute_error: 6.308550, mean_q: 12.731609\n",
      "  1518/50000: episode: 44, duration: 0.113s, episode steps: 28, steps per second: 248, episode reward: 28.000, mean reward: 1.000 [1.000, 1.000], mean action: 0.536 [0.000, 1.000], mean observation: 0.092 [-0.546, 0.951], loss: 0.414531, mean_absolute_error: 6.850953, mean_q: 13.863235\n",
      "  1718/50000: episode: 45, duration: 0.780s, episode steps: 200, steps per second: 256, episode reward: 200.000, mean reward: 1.000 [1.000, 1.000], mean action: 0.480 [0.000, 1.000], mean observation: -0.210 [-1.719, 0.810], loss: 0.575856, mean_absolute_error: 7.428595, mean_q: 14.997448\n",
      "  1848/50000: episode: 46, duration: 0.510s, episode steps: 130, steps per second: 255, episode reward: 130.000, mean reward: 1.000 [1.000, 1.000], mean action: 0.515 [0.000, 1.000], mean observation: 0.172 [-1.034, 1.272], loss: 0.683058, mean_absolute_error: 8.207536, mean_q: 16.596256\n",
      "  2048/50000: episode: 47, duration: 0.786s, episode steps: 200, steps per second: 255, episode reward: 200.000, mean reward: 1.000 [1.000, 1.000], mean action: 0.490 [0.000, 1.000], mean observation: -0.119 [-1.451, 1.341], loss: 0.782515, mean_absolute_error: 8.967125, mean_q: 18.176386\n",
      "  2227/50000: episode: 48, duration: 0.704s, episode steps: 179, steps per second: 254, episode reward: 179.000, mean reward: 1.000 [1.000, 1.000], mean action: 0.480 [0.000, 1.000], mean observation: -0.212 [-1.357, 1.138], loss: 0.887726, mean_absolute_error: 9.847472, mean_q: 19.984575\n",
      "  2382/50000: episode: 49, duration: 0.608s, episode steps: 155, steps per second: 255, episode reward: 155.000, mean reward: 1.000 [1.000, 1.000], mean action: 0.458 [0.000, 1.000], mean observation: -0.400 [-2.426, 0.939], loss: 1.083568, mean_absolute_error: 10.688954, mean_q: 21.585869\n",
      "  2582/50000: episode: 50, duration: 0.786s, episode steps: 200, steps per second: 254, episode reward: 200.000, mean reward: 1.000 [1.000, 1.000], mean action: 0.475 [0.000, 1.000], mean observation: -0.266 [-2.042, 0.854], loss: 1.000262, mean_absolute_error: 11.433536, mean_q: 23.246157\n",
      "  2782/50000: episode: 51, duration: 0.781s, episode steps: 200, steps per second: 256, episode reward: 200.000, mean reward: 1.000 [1.000, 1.000], mean action: 0.480 [0.000, 1.000], mean observation: -0.295 [-2.265, 0.990], loss: 0.976878, mean_absolute_error: 12.383510, mean_q: 25.193829\n",
      "  2963/50000: episode: 52, duration: 0.717s, episode steps: 181, steps per second: 253, episode reward: 181.000, mean reward: 1.000 [1.000, 1.000], mean action: 0.470 [0.000, 1.000], mean observation: -0.368 [-2.407, 0.994], loss: 1.548078, mean_absolute_error: 13.129216, mean_q: 26.604588\n",
      "  3137/50000: episode: 53, duration: 0.686s, episode steps: 174, steps per second: 254, episode reward: 174.000, mean reward: 1.000 [1.000, 1.000], mean action: 0.471 [0.000, 1.000], mean observation: -0.377 [-2.432, 1.006], loss: 1.428671, mean_absolute_error: 13.978263, mean_q: 28.339968\n",
      "  3299/50000: episode: 54, duration: 0.644s, episode steps: 162, steps per second: 251, episode reward: 162.000, mean reward: 1.000 [1.000, 1.000], mean action: 0.463 [0.000, 1.000], mean observation: -0.405 [-2.439, 0.938], loss: 1.352460, mean_absolute_error: 14.704561, mean_q: 29.897413\n",
      "  3484/50000: episode: 55, duration: 0.730s, episode steps: 185, steps per second: 254, episode reward: 185.000, mean reward: 1.000 [1.000, 1.000], mean action: 0.476 [0.000, 1.000], mean observation: -0.363 [-2.400, 0.802], loss: 1.877247, mean_absolute_error: 15.379529, mean_q: 31.201351\n",
      "  3643/50000: episode: 56, duration: 0.630s, episode steps: 159, steps per second: 252, episode reward: 159.000, mean reward: 1.000 [1.000, 1.000], mean action: 0.465 [0.000, 1.000], mean observation: -0.407 [-2.432, 0.975], loss: 1.527687, mean_absolute_error: 16.139618, mean_q: 32.770435\n",
      "  3836/50000: episode: 57, duration: 0.769s, episode steps: 193, steps per second: 251, episode reward: 193.000, mean reward: 1.000 [1.000, 1.000], mean action: 0.477 [0.000, 1.000], mean observation: -0.367 [-2.418, 0.861], loss: 1.586599, mean_absolute_error: 16.817558, mean_q: 34.221352\n",
      "  4032/50000: episode: 58, duration: 0.785s, episode steps: 196, steps per second: 250, episode reward: 196.000, mean reward: 1.000 [1.000, 1.000], mean action: 0.480 [0.000, 1.000], mean observation: -0.355 [-2.425, 0.665], loss: 1.799673, mean_absolute_error: 17.717476, mean_q: 35.938980\n",
      "  4219/50000: episode: 59, duration: 0.751s, episode steps: 187, steps per second: 249, episode reward: 187.000, mean reward: 1.000 [1.000, 1.000], mean action: 0.476 [0.000, 1.000], mean observation: -0.364 [-2.410, 0.760], loss: 2.485069, mean_absolute_error: 18.469826, mean_q: 37.399982\n",
      "  4391/50000: episode: 60, duration: 0.688s, episode steps: 172, steps per second: 250, episode reward: 172.000, mean reward: 1.000 [1.000, 1.000], mean action: 0.471 [0.000, 1.000], mean observation: -0.396 [-2.430, 0.820], loss: 2.323845, mean_absolute_error: 19.057915, mean_q: 38.617992\n",
      "  4565/50000: episode: 61, duration: 0.706s, episode steps: 174, steps per second: 247, episode reward: 174.000, mean reward: 1.000 [1.000, 1.000], mean action: 0.477 [0.000, 1.000], mean observation: -0.372 [-2.423, 0.837], loss: 1.731158, mean_absolute_error: 19.722651, mean_q: 40.034477\n",
      "  4721/50000: episode: 62, duration: 0.620s, episode steps: 156, steps per second: 252, episode reward: 156.000, mean reward: 1.000 [1.000, 1.000], mean action: 0.468 [0.000, 1.000], mean observation: -0.426 [-2.409, 0.751], loss: 2.379751, mean_absolute_error: 20.349369, mean_q: 41.194561\n"
     ]
    },
    {
     "name": "stdout",
     "output_type": "stream",
     "text": [
      "  4891/50000: episode: 63, duration: 0.721s, episode steps: 170, steps per second: 236, episode reward: 170.000, mean reward: 1.000 [1.000, 1.000], mean action: 0.471 [0.000, 1.000], mean observation: -0.391 [-2.428, 0.763], loss: 2.105090, mean_absolute_error: 20.913395, mean_q: 42.403671\n",
      "  5054/50000: episode: 64, duration: 0.706s, episode steps: 163, steps per second: 231, episode reward: 163.000, mean reward: 1.000 [1.000, 1.000], mean action: 0.466 [0.000, 1.000], mean observation: -0.404 [-2.426, 0.864], loss: 2.083196, mean_absolute_error: 21.504913, mean_q: 43.680882\n",
      "  5209/50000: episode: 65, duration: 0.723s, episode steps: 155, steps per second: 214, episode reward: 155.000, mean reward: 1.000 [1.000, 1.000], mean action: 0.477 [0.000, 1.000], mean observation: -0.427 [-2.418, 0.656], loss: 2.009528, mean_absolute_error: 22.155777, mean_q: 44.914158\n",
      "  5381/50000: episode: 66, duration: 0.874s, episode steps: 172, steps per second: 197, episode reward: 172.000, mean reward: 1.000 [1.000, 1.000], mean action: 0.471 [0.000, 1.000], mean observation: -0.381 [-2.413, 0.916], loss: 2.649263, mean_absolute_error: 22.645792, mean_q: 45.792007\n",
      "  5539/50000: episode: 67, duration: 0.642s, episode steps: 158, steps per second: 246, episode reward: 158.000, mean reward: 1.000 [1.000, 1.000], mean action: 0.468 [0.000, 1.000], mean observation: -0.423 [-2.429, 0.757], loss: 2.161871, mean_absolute_error: 23.171688, mean_q: 46.926289\n",
      "  5739/50000: episode: 68, duration: 0.798s, episode steps: 200, steps per second: 251, episode reward: 200.000, mean reward: 1.000 [1.000, 1.000], mean action: 0.480 [0.000, 1.000], mean observation: -0.309 [-2.279, 0.693], loss: 2.429954, mean_absolute_error: 23.833286, mean_q: 48.301807\n",
      "  5913/50000: episode: 69, duration: 0.715s, episode steps: 174, steps per second: 243, episode reward: 174.000, mean reward: 1.000 [1.000, 1.000], mean action: 0.483 [0.000, 1.000], mean observation: -0.374 [-2.424, 0.688], loss: 2.743815, mean_absolute_error: 24.466846, mean_q: 49.522034\n",
      "  6113/50000: episode: 70, duration: 0.869s, episode steps: 200, steps per second: 230, episode reward: 200.000, mean reward: 1.000 [1.000, 1.000], mean action: 0.485 [0.000, 1.000], mean observation: -0.144 [-1.288, 0.837], loss: 2.560878, mean_absolute_error: 24.893381, mean_q: 50.449501\n",
      "  6313/50000: episode: 71, duration: 0.833s, episode steps: 200, steps per second: 240, episode reward: 200.000, mean reward: 1.000 [1.000, 1.000], mean action: 0.490 [0.000, 1.000], mean observation: -0.166 [-1.305, 0.924], loss: 3.153156, mean_absolute_error: 25.775990, mean_q: 52.214916\n",
      "  6513/50000: episode: 72, duration: 0.943s, episode steps: 200, steps per second: 212, episode reward: 200.000, mean reward: 1.000 [1.000, 1.000], mean action: 0.475 [0.000, 1.000], mean observation: -0.301 [-2.240, 0.681], loss: 2.369723, mean_absolute_error: 26.432816, mean_q: 53.604355\n",
      "  6682/50000: episode: 73, duration: 0.683s, episode steps: 169, steps per second: 247, episode reward: 169.000, mean reward: 1.000 [1.000, 1.000], mean action: 0.473 [0.000, 1.000], mean observation: -0.393 [-2.403, 0.579], loss: 2.773772, mean_absolute_error: 27.011274, mean_q: 54.829823\n",
      "  6882/50000: episode: 74, duration: 0.801s, episode steps: 200, steps per second: 250, episode reward: 200.000, mean reward: 1.000 [1.000, 1.000], mean action: 0.490 [0.000, 1.000], mean observation: -0.117 [-1.078, 0.941], loss: 2.873214, mean_absolute_error: 27.687212, mean_q: 56.194298\n",
      "  7082/50000: episode: 75, duration: 0.806s, episode steps: 200, steps per second: 248, episode reward: 200.000, mean reward: 1.000 [1.000, 1.000], mean action: 0.480 [0.000, 1.000], mean observation: -0.239 [-1.818, 0.699], loss: 2.275284, mean_absolute_error: 28.182178, mean_q: 57.242603\n",
      "  7282/50000: episode: 76, duration: 0.801s, episode steps: 200, steps per second: 250, episode reward: 200.000, mean reward: 1.000 [1.000, 1.000], mean action: 0.480 [0.000, 1.000], mean observation: -0.258 [-1.950, 0.662], loss: 3.363243, mean_absolute_error: 28.695311, mean_q: 58.100742\n",
      "  7471/50000: episode: 77, duration: 0.760s, episode steps: 189, steps per second: 249, episode reward: 189.000, mean reward: 1.000 [1.000, 1.000], mean action: 0.476 [0.000, 1.000], mean observation: -0.359 [-2.426, 0.695], loss: 3.095315, mean_absolute_error: 29.136105, mean_q: 58.936062\n",
      "  7671/50000: episode: 78, duration: 0.797s, episode steps: 200, steps per second: 251, episode reward: 200.000, mean reward: 1.000 [1.000, 1.000], mean action: 0.485 [0.000, 1.000], mean observation: -0.146 [-1.440, 0.800], loss: 2.705175, mean_absolute_error: 29.742168, mean_q: 60.233429\n",
      "  7851/50000: episode: 79, duration: 0.729s, episode steps: 180, steps per second: 247, episode reward: 180.000, mean reward: 1.000 [1.000, 1.000], mean action: 0.478 [0.000, 1.000], mean observation: -0.370 [-2.406, 0.666], loss: 3.412219, mean_absolute_error: 30.400700, mean_q: 61.527691\n",
      "  8039/50000: episode: 80, duration: 0.756s, episode steps: 188, steps per second: 249, episode reward: 188.000, mean reward: 1.000 [1.000, 1.000], mean action: 0.479 [0.000, 1.000], mean observation: -0.348 [-2.410, 0.998], loss: 2.196436, mean_absolute_error: 30.778263, mean_q: 62.362160\n",
      "  8218/50000: episode: 81, duration: 0.725s, episode steps: 179, steps per second: 247, episode reward: 179.000, mean reward: 1.000 [1.000, 1.000], mean action: 0.475 [0.000, 1.000], mean observation: -0.365 [-2.421, 0.678], loss: 3.561734, mean_absolute_error: 31.100996, mean_q: 62.927422\n",
      "  8390/50000: episode: 82, duration: 0.700s, episode steps: 172, steps per second: 246, episode reward: 172.000, mean reward: 1.000 [1.000, 1.000], mean action: 0.477 [0.000, 1.000], mean observation: -0.390 [-2.422, 0.778], loss: 4.973708, mean_absolute_error: 31.421963, mean_q: 63.504513\n",
      "  8562/50000: episode: 83, duration: 0.702s, episode steps: 172, steps per second: 245, episode reward: 172.000, mean reward: 1.000 [1.000, 1.000], mean action: 0.477 [0.000, 1.000], mean observation: -0.388 [-2.418, 0.643], loss: 3.097099, mean_absolute_error: 31.599581, mean_q: 63.897411\n",
      "  8762/50000: episode: 84, duration: 0.816s, episode steps: 200, steps per second: 245, episode reward: 200.000, mean reward: 1.000 [1.000, 1.000], mean action: 0.475 [0.000, 1.000], mean observation: -0.326 [-2.381, 0.682], loss: 3.506896, mean_absolute_error: 31.964638, mean_q: 64.605995\n",
      "  8954/50000: episode: 85, duration: 0.775s, episode steps: 192, steps per second: 248, episode reward: 192.000, mean reward: 1.000 [1.000, 1.000], mean action: 0.479 [0.000, 1.000], mean observation: -0.351 [-2.408, 0.910], loss: 2.564357, mean_absolute_error: 32.332169, mean_q: 65.394478\n",
      "  9142/50000: episode: 86, duration: 0.849s, episode steps: 188, steps per second: 221, episode reward: 188.000, mean reward: 1.000 [1.000, 1.000], mean action: 0.473 [0.000, 1.000], mean observation: -0.351 [-2.408, 0.784], loss: 2.535240, mean_absolute_error: 32.379440, mean_q: 65.454239\n",
      "  9313/50000: episode: 87, duration: 0.738s, episode steps: 171, steps per second: 232, episode reward: 171.000, mean reward: 1.000 [1.000, 1.000], mean action: 0.474 [0.000, 1.000], mean observation: -0.393 [-2.423, 0.616], loss: 2.690054, mean_absolute_error: 33.009987, mean_q: 66.705727\n",
      "  9505/50000: episode: 88, duration: 0.909s, episode steps: 192, steps per second: 211, episode reward: 192.000, mean reward: 1.000 [1.000, 1.000], mean action: 0.479 [0.000, 1.000], mean observation: -0.351 [-2.410, 0.792], loss: 3.995649, mean_absolute_error: 33.139561, mean_q: 66.952431\n",
      "  9705/50000: episode: 89, duration: 0.851s, episode steps: 200, steps per second: 235, episode reward: 200.000, mean reward: 1.000 [1.000, 1.000], mean action: 0.480 [0.000, 1.000], mean observation: -0.309 [-2.256, 1.005], loss: 3.116900, mean_absolute_error: 33.553364, mean_q: 67.953743\n",
      "  9888/50000: episode: 90, duration: 0.781s, episode steps: 183, steps per second: 234, episode reward: 183.000, mean reward: 1.000 [1.000, 1.000], mean action: 0.475 [0.000, 1.000], mean observation: -0.356 [-2.402, 1.118], loss: 2.598586, mean_absolute_error: 33.880074, mean_q: 68.587090\n",
      " 10066/50000: episode: 91, duration: 0.776s, episode steps: 178, steps per second: 230, episode reward: 178.000, mean reward: 1.000 [1.000, 1.000], mean action: 0.472 [0.000, 1.000], mean observation: -0.373 [-2.410, 0.810], loss: 4.042404, mean_absolute_error: 34.037319, mean_q: 68.699570\n"
     ]
    },
    {
     "name": "stdout",
     "output_type": "stream",
     "text": [
      " 10266/50000: episode: 92, duration: 0.830s, episode steps: 200, steps per second: 241, episode reward: 200.000, mean reward: 1.000 [1.000, 1.000], mean action: 0.485 [0.000, 1.000], mean observation: -0.198 [-1.515, 0.647], loss: 3.230336, mean_absolute_error: 34.296108, mean_q: 69.266769\n",
      " 10457/50000: episode: 93, duration: 0.826s, episode steps: 191, steps per second: 231, episode reward: 191.000, mean reward: 1.000 [1.000, 1.000], mean action: 0.476 [0.000, 1.000], mean observation: -0.346 [-2.417, 0.784], loss: 3.689327, mean_absolute_error: 34.418411, mean_q: 69.475700\n",
      " 10636/50000: episode: 94, duration: 0.755s, episode steps: 179, steps per second: 237, episode reward: 179.000, mean reward: 1.000 [1.000, 1.000], mean action: 0.475 [0.000, 1.000], mean observation: -0.369 [-2.423, 0.973], loss: 2.471273, mean_absolute_error: 34.712635, mean_q: 70.216537\n",
      " 10836/50000: episode: 95, duration: 0.874s, episode steps: 200, steps per second: 229, episode reward: 200.000, mean reward: 1.000 [1.000, 1.000], mean action: 0.480 [0.000, 1.000], mean observation: -0.154 [-1.447, 0.710], loss: 3.011208, mean_absolute_error: 35.016953, mean_q: 70.762230\n",
      " 11036/50000: episode: 96, duration: 0.817s, episode steps: 200, steps per second: 245, episode reward: 200.000, mean reward: 1.000 [1.000, 1.000], mean action: 0.485 [0.000, 1.000], mean observation: -0.191 [-1.430, 0.780], loss: 3.192292, mean_absolute_error: 35.112583, mean_q: 71.058525\n",
      " 11214/50000: episode: 97, duration: 0.736s, episode steps: 178, steps per second: 242, episode reward: 178.000, mean reward: 1.000 [1.000, 1.000], mean action: 0.483 [0.000, 1.000], mean observation: -0.375 [-2.404, 0.885], loss: 2.990096, mean_absolute_error: 35.772274, mean_q: 72.288315\n",
      " 11407/50000: episode: 98, duration: 0.792s, episode steps: 193, steps per second: 244, episode reward: 193.000, mean reward: 1.000 [1.000, 1.000], mean action: 0.477 [0.000, 1.000], mean observation: -0.344 [-2.400, 0.936], loss: 2.496938, mean_absolute_error: 35.796482, mean_q: 72.262299\n",
      " 11607/50000: episode: 99, duration: 0.822s, episode steps: 200, steps per second: 243, episode reward: 200.000, mean reward: 1.000 [1.000, 1.000], mean action: 0.480 [0.000, 1.000], mean observation: -0.269 [-1.907, 0.704], loss: 2.713829, mean_absolute_error: 35.955547, mean_q: 72.615936\n",
      " 11787/50000: episode: 100, duration: 0.739s, episode steps: 180, steps per second: 244, episode reward: 180.000, mean reward: 1.000 [1.000, 1.000], mean action: 0.478 [0.000, 1.000], mean observation: -0.373 [-2.403, 0.738], loss: 2.231811, mean_absolute_error: 36.355370, mean_q: 73.418533\n",
      " 11979/50000: episode: 101, duration: 0.791s, episode steps: 192, steps per second: 243, episode reward: 192.000, mean reward: 1.000 [1.000, 1.000], mean action: 0.479 [0.000, 1.000], mean observation: -0.353 [-2.421, 1.134], loss: 2.585753, mean_absolute_error: 36.505733, mean_q: 73.670631\n",
      " 12179/50000: episode: 102, duration: 0.830s, episode steps: 200, steps per second: 241, episode reward: 200.000, mean reward: 1.000 [1.000, 1.000], mean action: 0.475 [0.000, 1.000], mean observation: -0.337 [-2.433, 1.002], loss: 2.801887, mean_absolute_error: 36.452217, mean_q: 73.546776\n",
      " 12379/50000: episode: 103, duration: 0.833s, episode steps: 200, steps per second: 240, episode reward: 200.000, mean reward: 1.000 [1.000, 1.000], mean action: 0.485 [0.000, 1.000], mean observation: -0.330 [-2.372, 0.740], loss: 2.499239, mean_absolute_error: 36.708012, mean_q: 74.090752\n",
      " 12575/50000: episode: 104, duration: 0.816s, episode steps: 196, steps per second: 240, episode reward: 196.000, mean reward: 1.000 [1.000, 1.000], mean action: 0.480 [0.000, 1.000], mean observation: -0.346 [-2.410, 0.816], loss: 3.333188, mean_absolute_error: 37.093723, mean_q: 74.780754\n",
      " 12758/50000: episode: 105, duration: 0.754s, episode steps: 183, steps per second: 243, episode reward: 183.000, mean reward: 1.000 [1.000, 1.000], mean action: 0.481 [0.000, 1.000], mean observation: -0.358 [-2.414, 0.864], loss: 1.887568, mean_absolute_error: 36.959164, mean_q: 74.528488\n",
      " 12942/50000: episode: 106, duration: 0.758s, episode steps: 184, steps per second: 243, episode reward: 184.000, mean reward: 1.000 [1.000, 1.000], mean action: 0.478 [0.000, 1.000], mean observation: -0.363 [-2.400, 1.012], loss: 3.814100, mean_absolute_error: 36.955502, mean_q: 74.372574\n",
      " 13142/50000: episode: 107, duration: 0.825s, episode steps: 200, steps per second: 242, episode reward: 200.000, mean reward: 1.000 [1.000, 1.000], mean action: 0.475 [0.000, 1.000], mean observation: -0.220 [-1.839, 0.813], loss: 4.126894, mean_absolute_error: 36.886864, mean_q: 74.173889\n",
      " 13342/50000: episode: 108, duration: 0.829s, episode steps: 200, steps per second: 241, episode reward: 200.000, mean reward: 1.000 [1.000, 1.000], mean action: 0.485 [0.000, 1.000], mean observation: -0.238 [-1.748, 0.863], loss: 3.594670, mean_absolute_error: 36.948048, mean_q: 74.535065\n",
      " 13542/50000: episode: 109, duration: 0.820s, episode steps: 200, steps per second: 244, episode reward: 200.000, mean reward: 1.000 [1.000, 1.000], mean action: 0.485 [0.000, 1.000], mean observation: -0.201 [-1.458, 0.813], loss: 3.132296, mean_absolute_error: 36.824677, mean_q: 74.328835\n",
      " 13725/50000: episode: 110, duration: 0.751s, episode steps: 183, steps per second: 244, episode reward: 183.000, mean reward: 1.000 [1.000, 1.000], mean action: 0.481 [0.000, 1.000], mean observation: -0.357 [-2.402, 0.726], loss: 2.835845, mean_absolute_error: 37.528370, mean_q: 75.760506\n",
      " 13925/50000: episode: 111, duration: 0.831s, episode steps: 200, steps per second: 241, episode reward: 200.000, mean reward: 1.000 [1.000, 1.000], mean action: 0.485 [0.000, 1.000], mean observation: -0.240 [-1.872, 0.937], loss: 3.375084, mean_absolute_error: 37.335194, mean_q: 75.258476\n",
      " 14125/50000: episode: 112, duration: 0.827s, episode steps: 200, steps per second: 242, episode reward: 200.000, mean reward: 1.000 [1.000, 1.000], mean action: 0.480 [0.000, 1.000], mean observation: -0.307 [-2.257, 0.773], loss: 1.631085, mean_absolute_error: 37.795265, mean_q: 76.316643\n",
      " 14325/50000: episode: 113, duration: 0.821s, episode steps: 200, steps per second: 244, episode reward: 200.000, mean reward: 1.000 [1.000, 1.000], mean action: 0.485 [0.000, 1.000], mean observation: -0.102 [-1.485, 1.229], loss: 3.619500, mean_absolute_error: 37.937035, mean_q: 76.538612\n",
      " 14525/50000: episode: 114, duration: 0.831s, episode steps: 200, steps per second: 241, episode reward: 200.000, mean reward: 1.000 [1.000, 1.000], mean action: 0.480 [0.000, 1.000], mean observation: -0.215 [-1.701, 0.677], loss: 3.883048, mean_absolute_error: 37.765961, mean_q: 76.045685\n",
      " 14725/50000: episode: 115, duration: 0.828s, episode steps: 200, steps per second: 242, episode reward: 200.000, mean reward: 1.000 [1.000, 1.000], mean action: 0.485 [0.000, 1.000], mean observation: -0.143 [-1.520, 0.868], loss: 2.825488, mean_absolute_error: 38.198715, mean_q: 76.967171\n",
      " 14925/50000: episode: 116, duration: 0.827s, episode steps: 200, steps per second: 242, episode reward: 200.000, mean reward: 1.000 [1.000, 1.000], mean action: 0.485 [0.000, 1.000], mean observation: -0.108 [-1.140, 0.686], loss: 3.773740, mean_absolute_error: 38.343430, mean_q: 77.280373\n",
      " 15099/50000: episode: 117, duration: 0.724s, episode steps: 174, steps per second: 240, episode reward: 174.000, mean reward: 1.000 [1.000, 1.000], mean action: 0.483 [0.000, 1.000], mean observation: -0.362 [-2.416, 0.938], loss: 2.419698, mean_absolute_error: 38.535606, mean_q: 77.607201\n",
      " 15299/50000: episode: 118, duration: 0.838s, episode steps: 200, steps per second: 239, episode reward: 200.000, mean reward: 1.000 [1.000, 1.000], mean action: 0.485 [0.000, 1.000], mean observation: -0.278 [-2.050, 0.838], loss: 3.736344, mean_absolute_error: 38.647343, mean_q: 77.823692\n",
      " 15484/50000: episode: 119, duration: 0.768s, episode steps: 185, steps per second: 241, episode reward: 185.000, mean reward: 1.000 [1.000, 1.000], mean action: 0.481 [0.000, 1.000], mean observation: -0.374 [-2.406, 1.087], loss: 1.512113, mean_absolute_error: 38.717842, mean_q: 77.992928\n",
      " 15680/50000: episode: 120, duration: 0.809s, episode steps: 196, steps per second: 242, episode reward: 196.000, mean reward: 1.000 [1.000, 1.000], mean action: 0.485 [0.000, 1.000], mean observation: -0.341 [-2.407, 0.831], loss: 3.718566, mean_absolute_error: 38.130978, mean_q: 76.765045\n"
     ]
    },
    {
     "name": "stdout",
     "output_type": "stream",
     "text": [
      " 15865/50000: episode: 121, duration: 0.764s, episode steps: 185, steps per second: 242, episode reward: 185.000, mean reward: 1.000 [1.000, 1.000], mean action: 0.481 [0.000, 1.000], mean observation: -0.382 [-2.400, 0.973], loss: 1.537015, mean_absolute_error: 38.575970, mean_q: 77.801216\n",
      " 16065/50000: episode: 122, duration: 0.830s, episode steps: 200, steps per second: 241, episode reward: 200.000, mean reward: 1.000 [1.000, 1.000], mean action: 0.490 [0.000, 1.000], mean observation: -0.056 [-0.912, 0.781], loss: 3.815359, mean_absolute_error: 38.581142, mean_q: 77.638458\n",
      " 16248/50000: episode: 123, duration: 0.761s, episode steps: 183, steps per second: 241, episode reward: 183.000, mean reward: 1.000 [1.000, 1.000], mean action: 0.470 [0.000, 1.000], mean observation: -0.390 [-2.414, 1.107], loss: 3.995685, mean_absolute_error: 38.416828, mean_q: 77.314659\n",
      " 16448/50000: episode: 124, duration: 0.833s, episode steps: 200, steps per second: 240, episode reward: 200.000, mean reward: 1.000 [1.000, 1.000], mean action: 0.490 [0.000, 1.000], mean observation: -0.154 [-1.877, 1.362], loss: 2.564807, mean_absolute_error: 38.342079, mean_q: 77.223236\n",
      " 16648/50000: episode: 125, duration: 0.829s, episode steps: 200, steps per second: 241, episode reward: 200.000, mean reward: 1.000 [1.000, 1.000], mean action: 0.475 [0.000, 1.000], mean observation: -0.218 [-2.046, 0.918], loss: 3.037682, mean_absolute_error: 38.307777, mean_q: 77.118576\n",
      " 16836/50000: episode: 126, duration: 0.782s, episode steps: 188, steps per second: 240, episode reward: 188.000, mean reward: 1.000 [1.000, 1.000], mean action: 0.484 [0.000, 1.000], mean observation: -0.363 [-2.310, 0.941], loss: 2.302183, mean_absolute_error: 38.544357, mean_q: 77.698700\n",
      " 17036/50000: episode: 127, duration: 0.825s, episode steps: 200, steps per second: 242, episode reward: 200.000, mean reward: 1.000 [1.000, 1.000], mean action: 0.480 [0.000, 1.000], mean observation: -0.329 [-2.339, 0.761], loss: 3.613621, mean_absolute_error: 38.518948, mean_q: 77.565102\n",
      " 17236/50000: episode: 128, duration: 0.831s, episode steps: 200, steps per second: 241, episode reward: 200.000, mean reward: 1.000 [1.000, 1.000], mean action: 0.495 [0.000, 1.000], mean observation: -0.034 [-0.907, 0.997], loss: 2.179188, mean_absolute_error: 38.062168, mean_q: 76.735374\n",
      " 17436/50000: episode: 129, duration: 0.840s, episode steps: 200, steps per second: 238, episode reward: 200.000, mean reward: 1.000 [1.000, 1.000], mean action: 0.485 [0.000, 1.000], mean observation: -0.144 [-1.322, 0.925], loss: 4.476025, mean_absolute_error: 38.264786, mean_q: 76.973885\n",
      " 17636/50000: episode: 130, duration: 0.898s, episode steps: 200, steps per second: 223, episode reward: 200.000, mean reward: 1.000 [1.000, 1.000], mean action: 0.485 [0.000, 1.000], mean observation: -0.220 [-1.702, 1.035], loss: 2.948619, mean_absolute_error: 38.223312, mean_q: 77.046112\n",
      " 17836/50000: episode: 131, duration: 0.879s, episode steps: 200, steps per second: 227, episode reward: 200.000, mean reward: 1.000 [1.000, 1.000], mean action: 0.480 [0.000, 1.000], mean observation: -0.224 [-1.734, 1.009], loss: 2.853851, mean_absolute_error: 38.696983, mean_q: 77.922783\n",
      " 18036/50000: episode: 132, duration: 0.890s, episode steps: 200, steps per second: 225, episode reward: 200.000, mean reward: 1.000 [1.000, 1.000], mean action: 0.510 [0.000, 1.000], mean observation: 0.121 [-0.906, 0.976], loss: 2.368288, mean_absolute_error: 38.713795, mean_q: 77.915413\n",
      " 18236/50000: episode: 133, duration: 0.885s, episode steps: 200, steps per second: 226, episode reward: 200.000, mean reward: 1.000 [1.000, 1.000], mean action: 0.495 [0.000, 1.000], mean observation: 0.001 [-0.931, 1.166], loss: 3.590008, mean_absolute_error: 38.787788, mean_q: 78.076828\n",
      " 18436/50000: episode: 134, duration: 0.892s, episode steps: 200, steps per second: 224, episode reward: 200.000, mean reward: 1.000 [1.000, 1.000], mean action: 0.485 [0.000, 1.000], mean observation: -0.261 [-2.247, 1.915], loss: 4.216688, mean_absolute_error: 39.101040, mean_q: 78.591553\n",
      " 18636/50000: episode: 135, duration: 0.893s, episode steps: 200, steps per second: 224, episode reward: 200.000, mean reward: 1.000 [1.000, 1.000], mean action: 0.495 [0.000, 1.000], mean observation: -0.178 [-1.511, 0.864], loss: 3.196003, mean_absolute_error: 38.969673, mean_q: 78.437668\n",
      " 18836/50000: episode: 136, duration: 0.854s, episode steps: 200, steps per second: 234, episode reward: 200.000, mean reward: 1.000 [1.000, 1.000], mean action: 0.495 [0.000, 1.000], mean observation: -0.045 [-0.906, 0.705], loss: 2.380067, mean_absolute_error: 39.198280, mean_q: 78.875931\n",
      " 19036/50000: episode: 137, duration: 0.837s, episode steps: 200, steps per second: 239, episode reward: 200.000, mean reward: 1.000 [1.000, 1.000], mean action: 0.490 [0.000, 1.000], mean observation: -0.155 [-1.685, 1.127], loss: 2.538369, mean_absolute_error: 38.978870, mean_q: 78.404022\n",
      " 19236/50000: episode: 138, duration: 0.869s, episode steps: 200, steps per second: 230, episode reward: 200.000, mean reward: 1.000 [1.000, 1.000], mean action: 0.480 [0.000, 1.000], mean observation: -0.149 [-1.449, 0.882], loss: 1.922707, mean_absolute_error: 39.354176, mean_q: 79.189896\n",
      " 19436/50000: episode: 139, duration: 0.850s, episode steps: 200, steps per second: 235, episode reward: 200.000, mean reward: 1.000 [1.000, 1.000], mean action: 0.490 [0.000, 1.000], mean observation: -0.081 [-1.034, 0.838], loss: 1.807415, mean_absolute_error: 39.088043, mean_q: 78.643387\n",
      " 19617/50000: episode: 140, duration: 0.764s, episode steps: 181, steps per second: 237, episode reward: 181.000, mean reward: 1.000 [1.000, 1.000], mean action: 0.475 [0.000, 1.000], mean observation: -0.363 [-2.406, 1.085], loss: 4.381411, mean_absolute_error: 39.360546, mean_q: 79.205238\n",
      " 19817/50000: episode: 141, duration: 0.847s, episode steps: 200, steps per second: 236, episode reward: 200.000, mean reward: 1.000 [1.000, 1.000], mean action: 0.510 [0.000, 1.000], mean observation: 0.140 [-0.921, 1.213], loss: 4.787593, mean_absolute_error: 39.160973, mean_q: 78.715279\n",
      " 20017/50000: episode: 142, duration: 0.845s, episode steps: 200, steps per second: 237, episode reward: 200.000, mean reward: 1.000 [1.000, 1.000], mean action: 0.470 [0.000, 1.000], mean observation: -0.255 [-2.246, 1.104], loss: 3.259731, mean_absolute_error: 39.470341, mean_q: 79.382210\n",
      " 20217/50000: episode: 143, duration: 0.851s, episode steps: 200, steps per second: 235, episode reward: 200.000, mean reward: 1.000 [1.000, 1.000], mean action: 0.505 [0.000, 1.000], mean observation: 0.217 [-1.038, 1.391], loss: 8.520448, mean_absolute_error: 39.606129, mean_q: 79.378548\n",
      " 20417/50000: episode: 144, duration: 0.855s, episode steps: 200, steps per second: 234, episode reward: 200.000, mean reward: 1.000 [1.000, 1.000], mean action: 0.490 [0.000, 1.000], mean observation: -0.092 [-1.150, 0.908], loss: 3.093278, mean_absolute_error: 39.406017, mean_q: 79.322815\n",
      " 20617/50000: episode: 145, duration: 0.867s, episode steps: 200, steps per second: 231, episode reward: 200.000, mean reward: 1.000 [1.000, 1.000], mean action: 0.500 [0.000, 1.000], mean observation: 0.022 [-0.891, 0.872], loss: 3.449623, mean_absolute_error: 39.899357, mean_q: 80.320160\n",
      " 20817/50000: episode: 146, duration: 0.845s, episode steps: 200, steps per second: 237, episode reward: 200.000, mean reward: 1.000 [1.000, 1.000], mean action: 0.485 [0.000, 1.000], mean observation: -0.274 [-2.072, 1.110], loss: 6.808398, mean_absolute_error: 39.949066, mean_q: 80.152664\n",
      " 21017/50000: episode: 147, duration: 0.848s, episode steps: 200, steps per second: 236, episode reward: 200.000, mean reward: 1.000 [1.000, 1.000], mean action: 0.490 [0.000, 1.000], mean observation: -0.167 [-1.707, 0.916], loss: 4.758701, mean_absolute_error: 39.451416, mean_q: 79.269539\n",
      " 21217/50000: episode: 148, duration: 0.850s, episode steps: 200, steps per second: 235, episode reward: 200.000, mean reward: 1.000 [1.000, 1.000], mean action: 0.505 [0.000, 1.000], mean observation: 0.114 [-0.910, 0.984], loss: 7.843855, mean_absolute_error: 39.756786, mean_q: 79.791428\n",
      " 21417/50000: episode: 149, duration: 0.851s, episode steps: 200, steps per second: 235, episode reward: 200.000, mean reward: 1.000 [1.000, 1.000], mean action: 0.505 [0.000, 1.000], mean observation: 0.134 [-0.989, 0.920], loss: 6.823894, mean_absolute_error: 40.135212, mean_q: 80.764954\n"
     ]
    },
    {
     "name": "stdout",
     "output_type": "stream",
     "text": [
      " 21617/50000: episode: 150, duration: 0.843s, episode steps: 200, steps per second: 237, episode reward: 200.000, mean reward: 1.000 [1.000, 1.000], mean action: 0.490 [0.000, 1.000], mean observation: -0.042 [-0.772, 0.763], loss: 5.097879, mean_absolute_error: 40.026676, mean_q: 80.552597\n",
      " 21817/50000: episode: 151, duration: 0.855s, episode steps: 200, steps per second: 234, episode reward: 200.000, mean reward: 1.000 [1.000, 1.000], mean action: 0.505 [0.000, 1.000], mean observation: 0.249 [-0.807, 1.515], loss: 6.423345, mean_absolute_error: 40.349888, mean_q: 80.917641\n",
      " 22017/50000: episode: 152, duration: 0.857s, episode steps: 200, steps per second: 233, episode reward: 200.000, mean reward: 1.000 [1.000, 1.000], mean action: 0.495 [0.000, 1.000], mean observation: -0.057 [-0.994, 0.958], loss: 7.028378, mean_absolute_error: 40.294884, mean_q: 81.072205\n",
      " 22217/50000: episode: 153, duration: 0.857s, episode steps: 200, steps per second: 233, episode reward: 200.000, mean reward: 1.000 [1.000, 1.000], mean action: 0.510 [0.000, 1.000], mean observation: 0.119 [-0.840, 1.003], loss: 3.946279, mean_absolute_error: 40.341160, mean_q: 81.174828\n",
      " 22417/50000: episode: 154, duration: 0.862s, episode steps: 200, steps per second: 232, episode reward: 200.000, mean reward: 1.000 [1.000, 1.000], mean action: 0.505 [0.000, 1.000], mean observation: 0.154 [-0.746, 1.045], loss: 6.193027, mean_absolute_error: 40.599072, mean_q: 81.603874\n",
      " 22617/50000: episode: 155, duration: 0.857s, episode steps: 200, steps per second: 233, episode reward: 200.000, mean reward: 1.000 [1.000, 1.000], mean action: 0.500 [0.000, 1.000], mean observation: 0.060 [-0.894, 1.174], loss: 2.723641, mean_absolute_error: 40.618786, mean_q: 81.840942\n",
      " 22817/50000: episode: 156, duration: 0.855s, episode steps: 200, steps per second: 234, episode reward: 200.000, mean reward: 1.000 [1.000, 1.000], mean action: 0.500 [0.000, 1.000], mean observation: -0.039 [-0.792, 0.770], loss: 10.714419, mean_absolute_error: 40.959908, mean_q: 82.256859\n",
      " 23017/50000: episode: 157, duration: 0.852s, episode steps: 200, steps per second: 235, episode reward: 200.000, mean reward: 1.000 [1.000, 1.000], mean action: 0.505 [0.000, 1.000], mean observation: 0.067 [-0.872, 1.115], loss: 5.707921, mean_absolute_error: 41.207932, mean_q: 82.986572\n",
      " 23217/50000: episode: 158, duration: 0.859s, episode steps: 200, steps per second: 233, episode reward: 200.000, mean reward: 1.000 [1.000, 1.000], mean action: 0.505 [0.000, 1.000], mean observation: 0.025 [-1.059, 0.965], loss: 8.707749, mean_absolute_error: 41.515369, mean_q: 83.519379\n",
      " 23417/50000: episode: 159, duration: 0.859s, episode steps: 200, steps per second: 233, episode reward: 200.000, mean reward: 1.000 [1.000, 1.000], mean action: 0.505 [0.000, 1.000], mean observation: 0.212 [-0.864, 1.288], loss: 11.893573, mean_absolute_error: 41.591209, mean_q: 83.498772\n",
      " 23617/50000: episode: 160, duration: 0.854s, episode steps: 200, steps per second: 234, episode reward: 200.000, mean reward: 1.000 [1.000, 1.000], mean action: 0.495 [0.000, 1.000], mean observation: -0.177 [-1.450, 1.013], loss: 10.088934, mean_absolute_error: 41.160866, mean_q: 82.401917\n",
      " 23817/50000: episode: 161, duration: 0.857s, episode steps: 200, steps per second: 233, episode reward: 200.000, mean reward: 1.000 [1.000, 1.000], mean action: 0.505 [0.000, 1.000], mean observation: 0.230 [-0.872, 1.362], loss: 9.450919, mean_absolute_error: 41.499645, mean_q: 83.239899\n",
      " 24017/50000: episode: 162, duration: 0.860s, episode steps: 200, steps per second: 233, episode reward: 200.000, mean reward: 1.000 [1.000, 1.000], mean action: 0.505 [0.000, 1.000], mean observation: 0.198 [-1.027, 1.178], loss: 5.979890, mean_absolute_error: 41.279732, mean_q: 82.984123\n",
      " 24217/50000: episode: 163, duration: 0.863s, episode steps: 200, steps per second: 232, episode reward: 200.000, mean reward: 1.000 [1.000, 1.000], mean action: 0.500 [0.000, 1.000], mean observation: 0.015 [-1.054, 0.972], loss: 5.919573, mean_absolute_error: 41.870869, mean_q: 84.131065\n",
      " 24417/50000: episode: 164, duration: 0.866s, episode steps: 200, steps per second: 231, episode reward: 200.000, mean reward: 1.000 [1.000, 1.000], mean action: 0.500 [0.000, 1.000], mean observation: 0.191 [-0.777, 1.169], loss: 11.768893, mean_absolute_error: 42.360546, mean_q: 85.010643\n",
      " 24617/50000: episode: 165, duration: 0.865s, episode steps: 200, steps per second: 231, episode reward: 200.000, mean reward: 1.000 [1.000, 1.000], mean action: 0.490 [0.000, 1.000], mean observation: -0.154 [-1.519, 0.868], loss: 10.379104, mean_absolute_error: 41.575558, mean_q: 83.346992\n",
      " 24817/50000: episode: 166, duration: 0.859s, episode steps: 200, steps per second: 233, episode reward: 200.000, mean reward: 1.000 [1.000, 1.000], mean action: 0.505 [0.000, 1.000], mean observation: 0.023 [-0.990, 0.944], loss: 7.785793, mean_absolute_error: 41.880978, mean_q: 84.147675\n",
      " 25017/50000: episode: 167, duration: 0.860s, episode steps: 200, steps per second: 233, episode reward: 200.000, mean reward: 1.000 [1.000, 1.000], mean action: 0.505 [0.000, 1.000], mean observation: 0.159 [-0.760, 1.022], loss: 5.566077, mean_absolute_error: 41.976349, mean_q: 84.479431\n",
      " 25217/50000: episode: 168, duration: 0.865s, episode steps: 200, steps per second: 231, episode reward: 200.000, mean reward: 1.000 [1.000, 1.000], mean action: 0.505 [0.000, 1.000], mean observation: 0.140 [-0.860, 1.054], loss: 7.450952, mean_absolute_error: 42.130650, mean_q: 84.739082\n",
      " 25417/50000: episode: 169, duration: 0.865s, episode steps: 200, steps per second: 231, episode reward: 200.000, mean reward: 1.000 [1.000, 1.000], mean action: 0.485 [0.000, 1.000], mean observation: -0.190 [-1.502, 0.864], loss: 5.114673, mean_absolute_error: 42.476776, mean_q: 85.373596\n",
      " 25617/50000: episode: 170, duration: 0.867s, episode steps: 200, steps per second: 231, episode reward: 200.000, mean reward: 1.000 [1.000, 1.000], mean action: 0.505 [0.000, 1.000], mean observation: 0.109 [-0.843, 1.013], loss: 4.317728, mean_absolute_error: 42.473354, mean_q: 85.535782\n",
      " 25817/50000: episode: 171, duration: 0.872s, episode steps: 200, steps per second: 229, episode reward: 200.000, mean reward: 1.000 [1.000, 1.000], mean action: 0.505 [0.000, 1.000], mean observation: 0.129 [-0.994, 0.980], loss: 12.339065, mean_absolute_error: 42.264229, mean_q: 84.647247\n",
      " 26017/50000: episode: 172, duration: 0.871s, episode steps: 200, steps per second: 230, episode reward: 200.000, mean reward: 1.000 [1.000, 1.000], mean action: 0.500 [0.000, 1.000], mean observation: 0.229 [-0.910, 1.280], loss: 7.226532, mean_absolute_error: 42.743484, mean_q: 85.822266\n",
      " 26217/50000: episode: 173, duration: 0.869s, episode steps: 200, steps per second: 230, episode reward: 200.000, mean reward: 1.000 [1.000, 1.000], mean action: 0.480 [0.000, 1.000], mean observation: -0.128 [-1.633, 1.276], loss: 8.929595, mean_absolute_error: 42.647167, mean_q: 85.500389\n",
      " 26417/50000: episode: 174, duration: 0.869s, episode steps: 200, steps per second: 230, episode reward: 200.000, mean reward: 1.000 [1.000, 1.000], mean action: 0.505 [0.000, 1.000], mean observation: 0.116 [-0.825, 0.834], loss: 10.068738, mean_absolute_error: 42.413872, mean_q: 85.211624\n",
      " 26617/50000: episode: 175, duration: 0.883s, episode steps: 200, steps per second: 226, episode reward: 200.000, mean reward: 1.000 [1.000, 1.000], mean action: 0.505 [0.000, 1.000], mean observation: 0.139 [-0.773, 0.897], loss: 6.979294, mean_absolute_error: 42.659161, mean_q: 85.732376\n",
      " 26817/50000: episode: 176, duration: 0.868s, episode steps: 200, steps per second: 230, episode reward: 200.000, mean reward: 1.000 [1.000, 1.000], mean action: 0.485 [0.000, 1.000], mean observation: -0.236 [-2.073, 1.157], loss: 9.929313, mean_absolute_error: 43.154308, mean_q: 86.749710\n",
      " 27017/50000: episode: 177, duration: 0.870s, episode steps: 200, steps per second: 230, episode reward: 200.000, mean reward: 1.000 [1.000, 1.000], mean action: 0.505 [0.000, 1.000], mean observation: 0.179 [-0.803, 1.081], loss: 5.889878, mean_absolute_error: 42.899845, mean_q: 86.200394\n",
      " 27217/50000: episode: 178, duration: 0.875s, episode steps: 200, steps per second: 229, episode reward: 200.000, mean reward: 1.000 [1.000, 1.000], mean action: 0.505 [0.000, 1.000], mean observation: 0.156 [-0.949, 0.968], loss: 5.233685, mean_absolute_error: 42.996788, mean_q: 86.469788\n"
     ]
    },
    {
     "name": "stdout",
     "output_type": "stream",
     "text": [
      " 27417/50000: episode: 179, duration: 0.876s, episode steps: 200, steps per second: 228, episode reward: 200.000, mean reward: 1.000 [1.000, 1.000], mean action: 0.505 [0.000, 1.000], mean observation: 0.164 [-1.005, 1.012], loss: 11.310450, mean_absolute_error: 43.008614, mean_q: 86.343987\n",
      " 27617/50000: episode: 180, duration: 0.906s, episode steps: 200, steps per second: 221, episode reward: 200.000, mean reward: 1.000 [1.000, 1.000], mean action: 0.505 [0.000, 1.000], mean observation: 0.133 [-1.039, 1.055], loss: 11.946851, mean_absolute_error: 43.028397, mean_q: 86.319023\n",
      " 27817/50000: episode: 181, duration: 0.878s, episode steps: 200, steps per second: 228, episode reward: 200.000, mean reward: 1.000 [1.000, 1.000], mean action: 0.505 [0.000, 1.000], mean observation: 0.198 [-0.973, 1.155], loss: 14.558741, mean_absolute_error: 43.552303, mean_q: 87.156250\n",
      " 28017/50000: episode: 182, duration: 0.874s, episode steps: 200, steps per second: 229, episode reward: 200.000, mean reward: 1.000 [1.000, 1.000], mean action: 0.505 [0.000, 1.000], mean observation: 0.072 [-1.214, 1.111], loss: 12.422952, mean_absolute_error: 43.506115, mean_q: 87.172813\n",
      " 28217/50000: episode: 183, duration: 0.873s, episode steps: 200, steps per second: 229, episode reward: 200.000, mean reward: 1.000 [1.000, 1.000], mean action: 0.505 [0.000, 1.000], mean observation: 0.044 [-1.093, 0.971], loss: 12.806011, mean_absolute_error: 43.672073, mean_q: 87.409843\n",
      " 28417/50000: episode: 184, duration: 0.875s, episode steps: 200, steps per second: 228, episode reward: 200.000, mean reward: 1.000 [1.000, 1.000], mean action: 0.480 [0.000, 1.000], mean observation: -0.274 [-2.307, 1.629], loss: 8.972825, mean_absolute_error: 43.645069, mean_q: 87.509735\n",
      " 28617/50000: episode: 185, duration: 0.874s, episode steps: 200, steps per second: 229, episode reward: 200.000, mean reward: 1.000 [1.000, 1.000], mean action: 0.505 [0.000, 1.000], mean observation: 0.220 [-0.744, 1.270], loss: 13.052229, mean_absolute_error: 43.395416, mean_q: 86.903297\n",
      " 28817/50000: episode: 186, duration: 0.871s, episode steps: 200, steps per second: 230, episode reward: 200.000, mean reward: 1.000 [1.000, 1.000], mean action: 0.505 [0.000, 1.000], mean observation: 0.140 [-0.939, 1.155], loss: 12.132112, mean_absolute_error: 43.429356, mean_q: 86.925995\n",
      " 29017/50000: episode: 187, duration: 0.882s, episode steps: 200, steps per second: 227, episode reward: 200.000, mean reward: 1.000 [1.000, 1.000], mean action: 0.495 [0.000, 1.000], mean observation: -0.105 [-1.230, 1.032], loss: 7.475601, mean_absolute_error: 43.141251, mean_q: 86.592178\n",
      " 29217/50000: episode: 188, duration: 0.881s, episode steps: 200, steps per second: 227, episode reward: 200.000, mean reward: 1.000 [1.000, 1.000], mean action: 0.505 [0.000, 1.000], mean observation: 0.114 [-0.992, 1.129], loss: 9.073366, mean_absolute_error: 43.781094, mean_q: 87.930588\n",
      " 29417/50000: episode: 189, duration: 0.892s, episode steps: 200, steps per second: 224, episode reward: 200.000, mean reward: 1.000 [1.000, 1.000], mean action: 0.505 [0.000, 1.000], mean observation: 0.212 [-0.957, 1.208], loss: 9.397191, mean_absolute_error: 42.942245, mean_q: 86.159119\n",
      " 29617/50000: episode: 190, duration: 0.900s, episode steps: 200, steps per second: 222, episode reward: 200.000, mean reward: 1.000 [1.000, 1.000], mean action: 0.505 [0.000, 1.000], mean observation: 0.116 [-0.886, 0.970], loss: 7.827683, mean_absolute_error: 43.628906, mean_q: 87.562576\n",
      " 29817/50000: episode: 191, duration: 0.886s, episode steps: 200, steps per second: 226, episode reward: 200.000, mean reward: 1.000 [1.000, 1.000], mean action: 0.500 [0.000, 1.000], mean observation: 0.187 [-1.082, 1.142], loss: 7.906097, mean_absolute_error: 43.697758, mean_q: 87.765839\n",
      " 30017/50000: episode: 192, duration: 0.888s, episode steps: 200, steps per second: 225, episode reward: 200.000, mean reward: 1.000 [1.000, 1.000], mean action: 0.505 [0.000, 1.000], mean observation: 0.189 [-0.965, 1.126], loss: 8.025854, mean_absolute_error: 44.124771, mean_q: 88.732635\n",
      " 30217/50000: episode: 193, duration: 0.896s, episode steps: 200, steps per second: 223, episode reward: 200.000, mean reward: 1.000 [1.000, 1.000], mean action: 0.500 [0.000, 1.000], mean observation: 0.120 [-1.035, 0.939], loss: 13.568751, mean_absolute_error: 44.114136, mean_q: 88.367653\n",
      " 30417/50000: episode: 194, duration: 0.887s, episode steps: 200, steps per second: 225, episode reward: 200.000, mean reward: 1.000 [1.000, 1.000], mean action: 0.505 [0.000, 1.000], mean observation: 0.134 [-0.969, 0.937], loss: 15.455478, mean_absolute_error: 44.176220, mean_q: 88.451073\n",
      " 30617/50000: episode: 195, duration: 0.882s, episode steps: 200, steps per second: 227, episode reward: 200.000, mean reward: 1.000 [1.000, 1.000], mean action: 0.505 [0.000, 1.000], mean observation: 0.138 [-0.931, 0.998], loss: 11.433009, mean_absolute_error: 43.852451, mean_q: 87.958107\n",
      " 30817/50000: episode: 196, duration: 0.888s, episode steps: 200, steps per second: 225, episode reward: 200.000, mean reward: 1.000 [1.000, 1.000], mean action: 0.505 [0.000, 1.000], mean observation: 0.189 [-0.945, 1.133], loss: 8.735081, mean_absolute_error: 43.812069, mean_q: 87.942764\n",
      " 31017/50000: episode: 197, duration: 0.887s, episode steps: 200, steps per second: 226, episode reward: 200.000, mean reward: 1.000 [1.000, 1.000], mean action: 0.505 [0.000, 1.000], mean observation: 0.177 [-0.909, 1.080], loss: 8.875454, mean_absolute_error: 43.499866, mean_q: 87.389450\n",
      " 31217/50000: episode: 198, duration: 0.893s, episode steps: 200, steps per second: 224, episode reward: 200.000, mean reward: 1.000 [1.000, 1.000], mean action: 0.505 [0.000, 1.000], mean observation: 0.190 [-0.900, 1.119], loss: 3.714427, mean_absolute_error: 43.841721, mean_q: 88.136467\n",
      " 31417/50000: episode: 199, duration: 0.894s, episode steps: 200, steps per second: 224, episode reward: 200.000, mean reward: 1.000 [1.000, 1.000], mean action: 0.505 [0.000, 1.000], mean observation: 0.246 [-0.939, 1.319], loss: 14.188291, mean_absolute_error: 43.972759, mean_q: 88.115761\n",
      " 31617/50000: episode: 200, duration: 0.891s, episode steps: 200, steps per second: 224, episode reward: 200.000, mean reward: 1.000 [1.000, 1.000], mean action: 0.505 [0.000, 1.000], mean observation: 0.190 [-0.930, 1.115], loss: 12.574109, mean_absolute_error: 44.174644, mean_q: 88.526512\n",
      " 31817/50000: episode: 201, duration: 0.895s, episode steps: 200, steps per second: 224, episode reward: 200.000, mean reward: 1.000 [1.000, 1.000], mean action: 0.500 [0.000, 1.000], mean observation: 0.178 [-0.896, 1.075], loss: 5.220382, mean_absolute_error: 43.974003, mean_q: 88.473274\n",
      " 32017/50000: episode: 202, duration: 0.894s, episode steps: 200, steps per second: 224, episode reward: 200.000, mean reward: 1.000 [1.000, 1.000], mean action: 0.505 [0.000, 1.000], mean observation: 0.195 [-0.937, 1.186], loss: 9.673252, mean_absolute_error: 43.810577, mean_q: 88.009979\n",
      " 32217/50000: episode: 203, duration: 0.898s, episode steps: 200, steps per second: 223, episode reward: 200.000, mean reward: 1.000 [1.000, 1.000], mean action: 0.500 [0.000, 1.000], mean observation: 0.181 [-0.838, 1.072], loss: 8.347171, mean_absolute_error: 43.901077, mean_q: 88.171310\n",
      " 32417/50000: episode: 204, duration: 0.890s, episode steps: 200, steps per second: 225, episode reward: 200.000, mean reward: 1.000 [1.000, 1.000], mean action: 0.500 [0.000, 1.000], mean observation: 0.224 [-0.816, 1.189], loss: 8.694052, mean_absolute_error: 44.679829, mean_q: 89.844391\n",
      " 32617/50000: episode: 205, duration: 0.902s, episode steps: 200, steps per second: 222, episode reward: 200.000, mean reward: 1.000 [1.000, 1.000], mean action: 0.505 [0.000, 1.000], mean observation: 0.215 [-0.801, 1.202], loss: 8.374942, mean_absolute_error: 44.308826, mean_q: 89.125793\n",
      " 32817/50000: episode: 206, duration: 0.902s, episode steps: 200, steps per second: 222, episode reward: 200.000, mean reward: 1.000 [1.000, 1.000], mean action: 0.500 [0.000, 1.000], mean observation: 0.243 [-0.714, 1.307], loss: 7.827991, mean_absolute_error: 44.166813, mean_q: 88.696068\n",
      " 33017/50000: episode: 207, duration: 0.898s, episode steps: 200, steps per second: 223, episode reward: 200.000, mean reward: 1.000 [1.000, 1.000], mean action: 0.505 [0.000, 1.000], mean observation: 0.204 [-0.728, 1.148], loss: 7.201661, mean_absolute_error: 44.224483, mean_q: 88.866150\n"
     ]
    },
    {
     "name": "stdout",
     "output_type": "stream",
     "text": [
      " 33217/50000: episode: 208, duration: 0.900s, episode steps: 200, steps per second: 222, episode reward: 200.000, mean reward: 1.000 [1.000, 1.000], mean action: 0.505 [0.000, 1.000], mean observation: 0.214 [-0.720, 1.207], loss: 5.913559, mean_absolute_error: 44.419140, mean_q: 89.389915\n",
      " 33417/50000: episode: 209, duration: 0.905s, episode steps: 200, steps per second: 221, episode reward: 200.000, mean reward: 1.000 [1.000, 1.000], mean action: 0.500 [0.000, 1.000], mean observation: 0.222 [-0.756, 1.247], loss: 10.174154, mean_absolute_error: 44.421486, mean_q: 89.321671\n",
      " 33617/50000: episode: 210, duration: 0.899s, episode steps: 200, steps per second: 222, episode reward: 200.000, mean reward: 1.000 [1.000, 1.000], mean action: 0.505 [0.000, 1.000], mean observation: 0.220 [-0.652, 1.209], loss: 7.305597, mean_absolute_error: 44.269444, mean_q: 89.116844\n",
      " 33817/50000: episode: 211, duration: 0.902s, episode steps: 200, steps per second: 222, episode reward: 200.000, mean reward: 1.000 [1.000, 1.000], mean action: 0.510 [0.000, 1.000], mean observation: 0.175 [-0.631, 1.058], loss: 5.818039, mean_absolute_error: 44.187733, mean_q: 88.934723\n",
      " 34017/50000: episode: 212, duration: 0.907s, episode steps: 200, steps per second: 221, episode reward: 200.000, mean reward: 1.000 [1.000, 1.000], mean action: 0.505 [0.000, 1.000], mean observation: 0.171 [-0.833, 1.063], loss: 6.391737, mean_absolute_error: 44.007599, mean_q: 88.571175\n",
      " 34217/50000: episode: 213, duration: 0.905s, episode steps: 200, steps per second: 221, episode reward: 200.000, mean reward: 1.000 [1.000, 1.000], mean action: 0.505 [0.000, 1.000], mean observation: 0.204 [-0.925, 1.166], loss: 8.834999, mean_absolute_error: 44.137436, mean_q: 88.683868\n",
      " 34417/50000: episode: 214, duration: 0.907s, episode steps: 200, steps per second: 220, episode reward: 200.000, mean reward: 1.000 [1.000, 1.000], mean action: 0.505 [0.000, 1.000], mean observation: 0.211 [-0.718, 1.169], loss: 11.125022, mean_absolute_error: 44.326515, mean_q: 89.104523\n",
      " 34617/50000: episode: 215, duration: 0.907s, episode steps: 200, steps per second: 220, episode reward: 200.000, mean reward: 1.000 [1.000, 1.000], mean action: 0.500 [0.000, 1.000], mean observation: 0.188 [-0.698, 1.106], loss: 5.558976, mean_absolute_error: 43.957638, mean_q: 88.575027\n",
      " 34817/50000: episode: 216, duration: 0.907s, episode steps: 200, steps per second: 221, episode reward: 200.000, mean reward: 1.000 [1.000, 1.000], mean action: 0.505 [0.000, 1.000], mean observation: 0.203 [-0.715, 1.105], loss: 9.434551, mean_absolute_error: 44.222694, mean_q: 88.946709\n",
      " 35017/50000: episode: 217, duration: 0.906s, episode steps: 200, steps per second: 221, episode reward: 200.000, mean reward: 1.000 [1.000, 1.000], mean action: 0.500 [0.000, 1.000], mean observation: 0.168 [-0.669, 1.054], loss: 4.258239, mean_absolute_error: 44.021168, mean_q: 88.751976\n",
      " 35217/50000: episode: 218, duration: 0.905s, episode steps: 200, steps per second: 221, episode reward: 200.000, mean reward: 1.000 [1.000, 1.000], mean action: 0.505 [0.000, 1.000], mean observation: 0.150 [-0.793, 0.958], loss: 7.576010, mean_absolute_error: 44.577866, mean_q: 89.753883\n",
      " 35417/50000: episode: 219, duration: 0.913s, episode steps: 200, steps per second: 219, episode reward: 200.000, mean reward: 1.000 [1.000, 1.000], mean action: 0.500 [0.000, 1.000], mean observation: 0.150 [-0.843, 0.961], loss: 7.840755, mean_absolute_error: 44.514706, mean_q: 89.577148\n",
      " 35617/50000: episode: 220, duration: 0.906s, episode steps: 200, steps per second: 221, episode reward: 200.000, mean reward: 1.000 [1.000, 1.000], mean action: 0.505 [0.000, 1.000], mean observation: 0.177 [-0.877, 1.037], loss: 4.527850, mean_absolute_error: 44.349804, mean_q: 89.350266\n",
      " 35817/50000: episode: 221, duration: 0.926s, episode steps: 200, steps per second: 216, episode reward: 200.000, mean reward: 1.000 [1.000, 1.000], mean action: 0.505 [0.000, 1.000], mean observation: 0.189 [-0.658, 1.083], loss: 8.017473, mean_absolute_error: 44.726776, mean_q: 89.907845\n",
      " 36017/50000: episode: 222, duration: 0.923s, episode steps: 200, steps per second: 217, episode reward: 200.000, mean reward: 1.000 [1.000, 1.000], mean action: 0.505 [0.000, 1.000], mean observation: 0.163 [-0.657, 0.980], loss: 3.253351, mean_absolute_error: 44.536118, mean_q: 89.712852\n",
      " 36217/50000: episode: 223, duration: 0.926s, episode steps: 200, steps per second: 216, episode reward: 200.000, mean reward: 1.000 [1.000, 1.000], mean action: 0.505 [0.000, 1.000], mean observation: 0.214 [-0.771, 1.113], loss: 4.437620, mean_absolute_error: 44.903553, mean_q: 90.480011\n",
      " 36417/50000: episode: 224, duration: 0.927s, episode steps: 200, steps per second: 216, episode reward: 200.000, mean reward: 1.000 [1.000, 1.000], mean action: 0.500 [0.000, 1.000], mean observation: 0.103 [-0.891, 0.928], loss: 7.764391, mean_absolute_error: 44.731678, mean_q: 89.876839\n",
      " 36617/50000: episode: 225, duration: 0.916s, episode steps: 200, steps per second: 218, episode reward: 200.000, mean reward: 1.000 [1.000, 1.000], mean action: 0.490 [0.000, 1.000], mean observation: -0.219 [-1.813, 0.945], loss: 5.439468, mean_absolute_error: 44.668068, mean_q: 89.881134\n",
      " 36817/50000: episode: 226, duration: 0.917s, episode steps: 200, steps per second: 218, episode reward: 200.000, mean reward: 1.000 [1.000, 1.000], mean action: 0.505 [0.000, 1.000], mean observation: 0.207 [-0.754, 1.041], loss: 3.392168, mean_absolute_error: 44.193878, mean_q: 89.009163\n",
      " 37017/50000: episode: 227, duration: 0.931s, episode steps: 200, steps per second: 215, episode reward: 200.000, mean reward: 1.000 [1.000, 1.000], mean action: 0.505 [0.000, 1.000], mean observation: 0.109 [-0.607, 0.821], loss: 7.459747, mean_absolute_error: 44.454327, mean_q: 89.400742\n",
      " 37217/50000: episode: 228, duration: 0.936s, episode steps: 200, steps per second: 214, episode reward: 200.000, mean reward: 1.000 [1.000, 1.000], mean action: 0.505 [0.000, 1.000], mean observation: 0.177 [-0.614, 0.985], loss: 6.538815, mean_absolute_error: 44.276089, mean_q: 89.057083\n",
      " 37417/50000: episode: 229, duration: 0.950s, episode steps: 200, steps per second: 210, episode reward: 200.000, mean reward: 1.000 [1.000, 1.000], mean action: 0.500 [0.000, 1.000], mean observation: 0.178 [-0.761, 0.959], loss: 4.238591, mean_absolute_error: 44.144493, mean_q: 88.934319\n",
      " 37617/50000: episode: 230, duration: 0.925s, episode steps: 200, steps per second: 216, episode reward: 200.000, mean reward: 1.000 [1.000, 1.000], mean action: 0.505 [0.000, 1.000], mean observation: 0.077 [-0.747, 0.904], loss: 4.716858, mean_absolute_error: 44.244083, mean_q: 89.072716\n",
      " 37817/50000: episode: 231, duration: 0.929s, episode steps: 200, steps per second: 215, episode reward: 200.000, mean reward: 1.000 [1.000, 1.000], mean action: 0.495 [0.000, 1.000], mean observation: -0.103 [-0.988, 0.736], loss: 5.117155, mean_absolute_error: 44.650524, mean_q: 89.894386\n",
      " 38017/50000: episode: 232, duration: 0.923s, episode steps: 200, steps per second: 217, episode reward: 200.000, mean reward: 1.000 [1.000, 1.000], mean action: 0.500 [0.000, 1.000], mean observation: 0.202 [-0.642, 0.985], loss: 3.114100, mean_absolute_error: 44.320976, mean_q: 89.355949\n",
      " 38217/50000: episode: 233, duration: 0.920s, episode steps: 200, steps per second: 217, episode reward: 200.000, mean reward: 1.000 [1.000, 1.000], mean action: 0.500 [0.000, 1.000], mean observation: -0.070 [-1.125, 0.894], loss: 6.854502, mean_absolute_error: 44.346867, mean_q: 89.166794\n",
      " 38417/50000: episode: 234, duration: 0.923s, episode steps: 200, steps per second: 217, episode reward: 200.000, mean reward: 1.000 [1.000, 1.000], mean action: 0.500 [0.000, 1.000], mean observation: 0.187 [-0.651, 0.919], loss: 5.406732, mean_absolute_error: 44.741859, mean_q: 90.162483\n",
      " 38617/50000: episode: 235, duration: 0.930s, episode steps: 200, steps per second: 215, episode reward: 200.000, mean reward: 1.000 [1.000, 1.000], mean action: 0.500 [0.000, 1.000], mean observation: 0.173 [-0.932, 0.933], loss: 5.396013, mean_absolute_error: 44.475536, mean_q: 89.585526\n",
      " 38817/50000: episode: 236, duration: 0.922s, episode steps: 200, steps per second: 217, episode reward: 200.000, mean reward: 1.000 [1.000, 1.000], mean action: 0.500 [0.000, 1.000], mean observation: 0.173 [-0.858, 0.893], loss: 4.769114, mean_absolute_error: 44.480053, mean_q: 89.628128\n"
     ]
    },
    {
     "name": "stdout",
     "output_type": "stream",
     "text": [
      " 39017/50000: episode: 237, duration: 0.953s, episode steps: 200, steps per second: 210, episode reward: 200.000, mean reward: 1.000 [1.000, 1.000], mean action: 0.500 [0.000, 1.000], mean observation: 0.190 [-0.755, 0.994], loss: 7.166111, mean_absolute_error: 44.388760, mean_q: 89.305275\n",
      " 39217/50000: episode: 238, duration: 0.924s, episode steps: 200, steps per second: 217, episode reward: 200.000, mean reward: 1.000 [1.000, 1.000], mean action: 0.500 [0.000, 1.000], mean observation: 0.162 [-0.774, 0.901], loss: 4.585834, mean_absolute_error: 44.625320, mean_q: 89.897285\n",
      " 39417/50000: episode: 239, duration: 0.924s, episode steps: 200, steps per second: 217, episode reward: 200.000, mean reward: 1.000 [1.000, 1.000], mean action: 0.500 [0.000, 1.000], mean observation: 0.165 [-0.628, 0.878], loss: 7.684904, mean_absolute_error: 44.497292, mean_q: 89.498535\n",
      " 39617/50000: episode: 240, duration: 0.923s, episode steps: 200, steps per second: 217, episode reward: 200.000, mean reward: 1.000 [1.000, 1.000], mean action: 0.500 [0.000, 1.000], mean observation: 0.162 [-0.870, 0.921], loss: 4.572249, mean_absolute_error: 44.616379, mean_q: 89.815948\n",
      " 39817/50000: episode: 241, duration: 0.930s, episode steps: 200, steps per second: 215, episode reward: 200.000, mean reward: 1.000 [1.000, 1.000], mean action: 0.500 [0.000, 1.000], mean observation: 0.155 [-0.607, 0.846], loss: 4.374442, mean_absolute_error: 44.449757, mean_q: 89.595749\n",
      " 40017/50000: episode: 242, duration: 0.929s, episode steps: 200, steps per second: 215, episode reward: 200.000, mean reward: 1.000 [1.000, 1.000], mean action: 0.505 [0.000, 1.000], mean observation: 0.091 [-0.666, 0.860], loss: 4.448763, mean_absolute_error: 44.395512, mean_q: 89.356758\n",
      " 40217/50000: episode: 243, duration: 0.932s, episode steps: 200, steps per second: 215, episode reward: 200.000, mean reward: 1.000 [1.000, 1.000], mean action: 0.500 [0.000, 1.000], mean observation: 0.177 [-0.656, 0.826], loss: 6.128178, mean_absolute_error: 45.001175, mean_q: 90.467308\n",
      " 40417/50000: episode: 244, duration: 0.926s, episode steps: 200, steps per second: 216, episode reward: 200.000, mean reward: 1.000 [1.000, 1.000], mean action: 0.505 [0.000, 1.000], mean observation: 0.136 [-0.833, 0.932], loss: 5.366087, mean_absolute_error: 44.743763, mean_q: 90.089539\n",
      " 40617/50000: episode: 245, duration: 0.932s, episode steps: 200, steps per second: 215, episode reward: 200.000, mean reward: 1.000 [1.000, 1.000], mean action: 0.505 [0.000, 1.000], mean observation: 0.156 [-0.854, 0.892], loss: 4.450393, mean_absolute_error: 44.180408, mean_q: 89.010155\n",
      " 40817/50000: episode: 246, duration: 0.936s, episode steps: 200, steps per second: 214, episode reward: 200.000, mean reward: 1.000 [1.000, 1.000], mean action: 0.505 [0.000, 1.000], mean observation: 0.139 [-0.850, 0.787], loss: 3.948087, mean_absolute_error: 44.480057, mean_q: 89.660133\n",
      " 41017/50000: episode: 247, duration: 0.934s, episode steps: 200, steps per second: 214, episode reward: 200.000, mean reward: 1.000 [1.000, 1.000], mean action: 0.505 [0.000, 1.000], mean observation: 0.142 [-0.692, 0.860], loss: 4.303719, mean_absolute_error: 44.650421, mean_q: 90.003067\n",
      " 41217/50000: episode: 248, duration: 0.935s, episode steps: 200, steps per second: 214, episode reward: 200.000, mean reward: 1.000 [1.000, 1.000], mean action: 0.500 [0.000, 1.000], mean observation: 0.161 [-0.694, 0.821], loss: 7.088150, mean_absolute_error: 44.671207, mean_q: 89.990135\n",
      " 41417/50000: episode: 249, duration: 0.943s, episode steps: 200, steps per second: 212, episode reward: 200.000, mean reward: 1.000 [1.000, 1.000], mean action: 0.505 [0.000, 1.000], mean observation: 0.069 [-0.816, 1.095], loss: 5.039888, mean_absolute_error: 44.359909, mean_q: 89.440964\n",
      " 41617/50000: episode: 250, duration: 0.938s, episode steps: 200, steps per second: 213, episode reward: 200.000, mean reward: 1.000 [1.000, 1.000], mean action: 0.500 [0.000, 1.000], mean observation: 0.156 [-0.563, 0.829], loss: 4.101106, mean_absolute_error: 44.434372, mean_q: 89.592003\n",
      " 41817/50000: episode: 251, duration: 0.943s, episode steps: 200, steps per second: 212, episode reward: 200.000, mean reward: 1.000 [1.000, 1.000], mean action: 0.500 [0.000, 1.000], mean observation: 0.160 [-0.657, 0.801], loss: 5.616665, mean_absolute_error: 44.800713, mean_q: 90.307526\n",
      " 42017/50000: episode: 252, duration: 0.942s, episode steps: 200, steps per second: 212, episode reward: 200.000, mean reward: 1.000 [1.000, 1.000], mean action: 0.500 [0.000, 1.000], mean observation: 0.044 [-0.895, 0.762], loss: 8.043706, mean_absolute_error: 44.658852, mean_q: 89.919571\n",
      " 42217/50000: episode: 253, duration: 0.944s, episode steps: 200, steps per second: 212, episode reward: 200.000, mean reward: 1.000 [1.000, 1.000], mean action: 0.500 [0.000, 1.000], mean observation: 0.175 [-0.692, 0.858], loss: 4.285095, mean_absolute_error: 44.407658, mean_q: 89.494827\n",
      " 42417/50000: episode: 254, duration: 0.944s, episode steps: 200, steps per second: 212, episode reward: 200.000, mean reward: 1.000 [1.000, 1.000], mean action: 0.500 [0.000, 1.000], mean observation: 0.164 [-0.865, 0.853], loss: 4.172931, mean_absolute_error: 44.515419, mean_q: 89.682129\n",
      " 42617/50000: episode: 255, duration: 0.951s, episode steps: 200, steps per second: 210, episode reward: 200.000, mean reward: 1.000 [1.000, 1.000], mean action: 0.500 [0.000, 1.000], mean observation: 0.130 [-0.757, 0.912], loss: 4.658839, mean_absolute_error: 45.012539, mean_q: 90.772560\n",
      " 42817/50000: episode: 256, duration: 0.948s, episode steps: 200, steps per second: 211, episode reward: 200.000, mean reward: 1.000 [1.000, 1.000], mean action: 0.500 [0.000, 1.000], mean observation: 0.115 [-0.759, 0.790], loss: 6.687340, mean_absolute_error: 44.291016, mean_q: 89.178093\n",
      " 43017/50000: episode: 257, duration: 0.950s, episode steps: 200, steps per second: 211, episode reward: 200.000, mean reward: 1.000 [1.000, 1.000], mean action: 0.500 [0.000, 1.000], mean observation: 0.162 [-0.763, 0.805], loss: 4.254598, mean_absolute_error: 44.251221, mean_q: 89.205429\n",
      " 43217/50000: episode: 258, duration: 0.947s, episode steps: 200, steps per second: 211, episode reward: 200.000, mean reward: 1.000 [1.000, 1.000], mean action: 0.505 [0.000, 1.000], mean observation: 0.164 [-0.737, 0.799], loss: 7.901513, mean_absolute_error: 44.449547, mean_q: 89.457253\n",
      " 43417/50000: episode: 259, duration: 0.951s, episode steps: 200, steps per second: 210, episode reward: 200.000, mean reward: 1.000 [1.000, 1.000], mean action: 0.500 [0.000, 1.000], mean observation: 0.149 [-0.808, 0.937], loss: 3.265019, mean_absolute_error: 44.944279, mean_q: 90.609062\n",
      " 43617/50000: episode: 260, duration: 0.958s, episode steps: 200, steps per second: 209, episode reward: 200.000, mean reward: 1.000 [1.000, 1.000], mean action: 0.505 [0.000, 1.000], mean observation: 0.124 [-0.838, 0.837], loss: 4.139815, mean_absolute_error: 44.893211, mean_q: 90.418205\n",
      " 43817/50000: episode: 261, duration: 0.956s, episode steps: 200, steps per second: 209, episode reward: 200.000, mean reward: 1.000 [1.000, 1.000], mean action: 0.500 [0.000, 1.000], mean observation: 0.155 [-0.626, 0.741], loss: 6.053618, mean_absolute_error: 44.342030, mean_q: 89.146912\n",
      " 44017/50000: episode: 262, duration: 0.953s, episode steps: 200, steps per second: 210, episode reward: 200.000, mean reward: 1.000 [1.000, 1.000], mean action: 0.500 [0.000, 1.000], mean observation: 0.115 [-1.025, 0.929], loss: 7.412517, mean_absolute_error: 43.898354, mean_q: 88.287598\n",
      " 44217/50000: episode: 263, duration: 0.964s, episode steps: 200, steps per second: 207, episode reward: 200.000, mean reward: 1.000 [1.000, 1.000], mean action: 0.495 [0.000, 1.000], mean observation: 0.120 [-0.753, 0.749], loss: 8.063396, mean_absolute_error: 44.350433, mean_q: 89.311798\n",
      " 44417/50000: episode: 264, duration: 1.000s, episode steps: 200, steps per second: 200, episode reward: 200.000, mean reward: 1.000 [1.000, 1.000], mean action: 0.500 [0.000, 1.000], mean observation: 0.133 [-0.746, 0.922], loss: 3.817703, mean_absolute_error: 44.489742, mean_q: 89.620567\n",
      " 44617/50000: episode: 265, duration: 1.001s, episode steps: 200, steps per second: 200, episode reward: 200.000, mean reward: 1.000 [1.000, 1.000], mean action: 0.500 [0.000, 1.000], mean observation: 0.154 [-0.696, 0.743], loss: 3.554642, mean_absolute_error: 44.469505, mean_q: 89.590530\n"
     ]
    },
    {
     "name": "stdout",
     "output_type": "stream",
     "text": [
      " 44817/50000: episode: 266, duration: 1.001s, episode steps: 200, steps per second: 200, episode reward: 200.000, mean reward: 1.000 [1.000, 1.000], mean action: 0.505 [0.000, 1.000], mean observation: 0.156 [-0.869, 0.952], loss: 4.752415, mean_absolute_error: 43.869923, mean_q: 88.317093\n",
      " 45017/50000: episode: 267, duration: 1.034s, episode steps: 200, steps per second: 193, episode reward: 200.000, mean reward: 1.000 [1.000, 1.000], mean action: 0.485 [0.000, 1.000], mean observation: -0.167 [-1.347, 1.252], loss: 4.641644, mean_absolute_error: 44.294567, mean_q: 89.175140\n",
      " 45217/50000: episode: 268, duration: 0.975s, episode steps: 200, steps per second: 205, episode reward: 200.000, mean reward: 1.000 [1.000, 1.000], mean action: 0.500 [0.000, 1.000], mean observation: 0.123 [-0.803, 0.749], loss: 6.366070, mean_absolute_error: 44.172874, mean_q: 88.802155\n",
      " 45417/50000: episode: 269, duration: 1.042s, episode steps: 200, steps per second: 192, episode reward: 200.000, mean reward: 1.000 [1.000, 1.000], mean action: 0.500 [0.000, 1.000], mean observation: 0.093 [-0.956, 0.847], loss: 6.139772, mean_absolute_error: 43.757324, mean_q: 88.002853\n",
      " 45617/50000: episode: 270, duration: 0.976s, episode steps: 200, steps per second: 205, episode reward: 200.000, mean reward: 1.000 [1.000, 1.000], mean action: 0.500 [0.000, 1.000], mean observation: 0.141 [-0.736, 0.755], loss: 5.913176, mean_absolute_error: 44.469505, mean_q: 89.485527\n",
      " 45817/50000: episode: 271, duration: 1.003s, episode steps: 200, steps per second: 199, episode reward: 200.000, mean reward: 1.000 [1.000, 1.000], mean action: 0.500 [0.000, 1.000], mean observation: 0.141 [-0.751, 0.899], loss: 3.409260, mean_absolute_error: 44.052490, mean_q: 88.717552\n",
      " 46017/50000: episode: 272, duration: 0.971s, episode steps: 200, steps per second: 206, episode reward: 200.000, mean reward: 1.000 [1.000, 1.000], mean action: 0.500 [0.000, 1.000], mean observation: 0.139 [-0.687, 0.777], loss: 7.096012, mean_absolute_error: 44.206100, mean_q: 88.925217\n",
      " 46217/50000: episode: 273, duration: 0.967s, episode steps: 200, steps per second: 207, episode reward: 200.000, mean reward: 1.000 [1.000, 1.000], mean action: 0.500 [0.000, 1.000], mean observation: 0.112 [-1.078, 0.789], loss: 8.748435, mean_absolute_error: 44.135635, mean_q: 88.617775\n",
      " 46417/50000: episode: 274, duration: 0.963s, episode steps: 200, steps per second: 208, episode reward: 200.000, mean reward: 1.000 [1.000, 1.000], mean action: 0.505 [0.000, 1.000], mean observation: 0.089 [-0.719, 0.724], loss: 6.211465, mean_absolute_error: 43.656563, mean_q: 87.823700\n",
      " 46617/50000: episode: 275, duration: 0.972s, episode steps: 200, steps per second: 206, episode reward: 200.000, mean reward: 1.000 [1.000, 1.000], mean action: 0.500 [0.000, 1.000], mean observation: 0.144 [-0.785, 0.792], loss: 5.197073, mean_absolute_error: 43.674858, mean_q: 87.849083\n",
      " 46817/50000: episode: 276, duration: 0.971s, episode steps: 200, steps per second: 206, episode reward: 200.000, mean reward: 1.000 [1.000, 1.000], mean action: 0.500 [0.000, 1.000], mean observation: 0.138 [-0.867, 0.913], loss: 3.331025, mean_absolute_error: 44.050587, mean_q: 88.737694\n",
      " 47017/50000: episode: 277, duration: 0.973s, episode steps: 200, steps per second: 205, episode reward: 200.000, mean reward: 1.000 [1.000, 1.000], mean action: 0.495 [0.000, 1.000], mean observation: 0.160 [-0.824, 0.909], loss: 3.472617, mean_absolute_error: 44.064621, mean_q: 88.691200\n",
      " 47217/50000: episode: 278, duration: 0.966s, episode steps: 200, steps per second: 207, episode reward: 200.000, mean reward: 1.000 [1.000, 1.000], mean action: 0.500 [0.000, 1.000], mean observation: 0.131 [-0.924, 0.906], loss: 5.001301, mean_absolute_error: 43.582539, mean_q: 87.601387\n",
      " 47417/50000: episode: 279, duration: 0.973s, episode steps: 200, steps per second: 206, episode reward: 200.000, mean reward: 1.000 [1.000, 1.000], mean action: 0.495 [0.000, 1.000], mean observation: 0.120 [-0.925, 0.908], loss: 4.106581, mean_absolute_error: 43.344799, mean_q: 87.288086\n",
      " 47617/50000: episode: 280, duration: 0.972s, episode steps: 200, steps per second: 206, episode reward: 200.000, mean reward: 1.000 [1.000, 1.000], mean action: 0.500 [0.000, 1.000], mean observation: 0.127 [-0.657, 0.773], loss: 5.456730, mean_absolute_error: 43.451096, mean_q: 87.423889\n",
      " 47817/50000: episode: 281, duration: 0.976s, episode steps: 200, steps per second: 205, episode reward: 200.000, mean reward: 1.000 [1.000, 1.000], mean action: 0.500 [0.000, 1.000], mean observation: 0.094 [-0.782, 0.856], loss: 7.750815, mean_absolute_error: 43.021217, mean_q: 86.414658\n",
      " 48017/50000: episode: 282, duration: 0.981s, episode steps: 200, steps per second: 204, episode reward: 200.000, mean reward: 1.000 [1.000, 1.000], mean action: 0.500 [0.000, 1.000], mean observation: 0.115 [-0.691, 0.738], loss: 2.553607, mean_absolute_error: 43.522129, mean_q: 87.638680\n",
      " 48217/50000: episode: 283, duration: 0.972s, episode steps: 200, steps per second: 206, episode reward: 200.000, mean reward: 1.000 [1.000, 1.000], mean action: 0.505 [0.000, 1.000], mean observation: 0.110 [-1.039, 0.951], loss: 4.072579, mean_absolute_error: 42.935379, mean_q: 86.406075\n",
      " 48417/50000: episode: 284, duration: 0.977s, episode steps: 200, steps per second: 205, episode reward: 200.000, mean reward: 1.000 [1.000, 1.000], mean action: 0.500 [0.000, 1.000], mean observation: 0.105 [-0.877, 0.827], loss: 7.747705, mean_absolute_error: 43.159092, mean_q: 86.554649\n",
      " 48617/50000: episode: 285, duration: 0.985s, episode steps: 200, steps per second: 203, episode reward: 200.000, mean reward: 1.000 [1.000, 1.000], mean action: 0.500 [0.000, 1.000], mean observation: 0.113 [-0.788, 0.826], loss: 3.647631, mean_absolute_error: 43.711742, mean_q: 87.880569\n",
      " 48817/50000: episode: 286, duration: 1.230s, episode steps: 200, steps per second: 163, episode reward: 200.000, mean reward: 1.000 [1.000, 1.000], mean action: 0.505 [0.000, 1.000], mean observation: 0.107 [-0.802, 0.834], loss: 5.405017, mean_absolute_error: 43.367199, mean_q: 87.156151\n",
      " 49017/50000: episode: 287, duration: 1.113s, episode steps: 200, steps per second: 180, episode reward: 200.000, mean reward: 1.000 [1.000, 1.000], mean action: 0.495 [0.000, 1.000], mean observation: 0.106 [-0.875, 0.912], loss: 6.221649, mean_absolute_error: 43.433548, mean_q: 87.265739\n",
      " 49217/50000: episode: 288, duration: 1.200s, episode steps: 200, steps per second: 167, episode reward: 200.000, mean reward: 1.000 [1.000, 1.000], mean action: 0.500 [0.000, 1.000], mean observation: 0.109 [-0.698, 0.753], loss: 3.462581, mean_absolute_error: 43.359066, mean_q: 87.210701\n",
      " 49417/50000: episode: 289, duration: 1.062s, episode steps: 200, steps per second: 188, episode reward: 200.000, mean reward: 1.000 [1.000, 1.000], mean action: 0.500 [0.000, 1.000], mean observation: 0.116 [-0.753, 0.836], loss: 5.177324, mean_absolute_error: 43.276955, mean_q: 86.986740\n",
      " 49617/50000: episode: 290, duration: 1.068s, episode steps: 200, steps per second: 187, episode reward: 200.000, mean reward: 1.000 [1.000, 1.000], mean action: 0.500 [0.000, 1.000], mean observation: 0.105 [-0.758, 0.745], loss: 3.967437, mean_absolute_error: 43.130733, mean_q: 86.731270\n",
      " 49817/50000: episode: 291, duration: 1.015s, episode steps: 200, steps per second: 197, episode reward: 200.000, mean reward: 1.000 [1.000, 1.000], mean action: 0.500 [0.000, 1.000], mean observation: 0.106 [-0.790, 0.723], loss: 6.999438, mean_absolute_error: 43.359787, mean_q: 87.027756\n",
      "done, took 223.700 seconds\n"
     ]
    }
   ],
   "source": [
    "# Finally, we configure and compile our agent. You can use every built-in Keras optimizer and\n",
    "# even the metrics!\n",
    "memory = SequentialMemory(limit=50000, window_length=1)\n",
    "policy = BoltzmannQPolicy()\n",
    "dqn = DQNAgent(model=model, nb_actions=nb_actions, memory=memory, nb_steps_warmup=10,\n",
    "               target_model_update=1e-2, policy=policy)\n",
    "dqn.compile(Adam(lr=1e-3), metrics=['mae'])\n",
    "\n",
    "dqn.fit(env, nb_steps=50000, visualize=False, verbose=2)\n",
    "\n",
    "# After training is done, we save the final weights.\n",
    "dqn.save_weights('dqn_{}_weights.h5f'.format(ENV_NAME), overwrite=True)"
   ]
  },
  {
   "cell_type": "code",
   "execution_count": 21,
   "metadata": {},
   "outputs": [
    {
     "name": "stdout",
     "output_type": "stream",
     "text": [
      "Testing for 5 episodes ...\n",
      "Episode 1: reward: 200.000, steps: 200\n",
      "Episode 2: reward: 200.000, steps: 200\n",
      "Episode 3: reward: 200.000, steps: 200\n",
      "Episode 4: reward: 200.000, steps: 200\n",
      "Episode 5: reward: 200.000, steps: 200\n"
     ]
    },
    {
     "data": {
      "text/plain": [
       "<keras.callbacks.History at 0x7f62ffb96278>"
      ]
     },
     "execution_count": 21,
     "metadata": {},
     "output_type": "execute_result"
    }
   ],
   "source": [
    "# Finally, evaluate our algorithm for 5 episodes.\n",
    "dqn.test(env, nb_episodes=5, visualize=True)"
   ]
  }
 ],
 "metadata": {
  "kernelspec": {
   "display_name": "Python 3",
   "language": "python",
   "name": "python3"
  },
  "language_info": {
   "codemirror_mode": {
    "name": "ipython",
    "version": 3
   },
   "file_extension": ".py",
   "mimetype": "text/x-python",
   "name": "python",
   "nbconvert_exporter": "python",
   "pygments_lexer": "ipython3",
   "version": "3.5.2"
  }
 },
 "nbformat": 4,
 "nbformat_minor": 2
}
